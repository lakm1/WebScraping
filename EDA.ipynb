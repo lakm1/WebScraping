{
  "cells": [
    {
      "cell_type": "code",
      "execution_count": 6,
      "metadata": {},
      "outputs": [],
      "source": [
        "import pandas as pd\n",
        "import plotly.express as px"
      ]
    },
    {
      "cell_type": "code",
      "execution_count": 7,
      "metadata": {
        "colab": {
          "base_uri": "https://localhost:8080/",
          "height": 822
        },
        "id": "BvOTkBE_CpVv",
        "outputId": "ef8bb3ab-93d9-4834-b318-3d425f722ffa"
      },
      "outputs": [
        {
          "data": {
            "text/html": [
              "<div>\n",
              "<style scoped>\n",
              "    .dataframe tbody tr th:only-of-type {\n",
              "        vertical-align: middle;\n",
              "    }\n",
              "\n",
              "    .dataframe tbody tr th {\n",
              "        vertical-align: top;\n",
              "    }\n",
              "\n",
              "    .dataframe thead th {\n",
              "        text-align: right;\n",
              "    }\n",
              "</style>\n",
              "<table border=\"1\" class=\"dataframe\">\n",
              "  <thead>\n",
              "    <tr style=\"text-align: right;\">\n",
              "      <th></th>\n",
              "      <th>title</th>\n",
              "      <th>image</th>\n",
              "      <th>price</th>\n",
              "      <th>availability</th>\n",
              "      <th>categories</th>\n",
              "      <th>tags</th>\n",
              "      <th>description</th>\n",
              "    </tr>\n",
              "  </thead>\n",
              "  <tbody>\n",
              "    <tr>\n",
              "      <th>0</th>\n",
              "      <td>Bulbasaur</td>\n",
              "      <td>https://scrapeme.live/wp-content/uploads/2018/...</td>\n",
              "      <td>63.0</td>\n",
              "      <td>45</td>\n",
              "      <td>Pokemon, Seed</td>\n",
              "      <td>bulbasaur, Overgrow, Seed</td>\n",
              "      <td>Bulbasaur can be seen napping in bright sunlig...</td>\n",
              "    </tr>\n",
              "    <tr>\n",
              "      <th>1</th>\n",
              "      <td>Ivysaur</td>\n",
              "      <td>https://scrapeme.live/wp-content/uploads/2018/...</td>\n",
              "      <td>87.0</td>\n",
              "      <td>142</td>\n",
              "      <td>Pokemon, Seed</td>\n",
              "      <td>ivysaur, Overgrow, Seed</td>\n",
              "      <td>There is a bud on this Pokémon’s back. To supp...</td>\n",
              "    </tr>\n",
              "    <tr>\n",
              "      <th>2</th>\n",
              "      <td>Venusaur</td>\n",
              "      <td>https://scrapeme.live/wp-content/uploads/2018/...</td>\n",
              "      <td>105.0</td>\n",
              "      <td>30</td>\n",
              "      <td>Pokemon, Seed</td>\n",
              "      <td>Overgrow, Seed, venusaur</td>\n",
              "      <td>There is a large flower on Venusaur’s back. Th...</td>\n",
              "    </tr>\n",
              "    <tr>\n",
              "      <th>3</th>\n",
              "      <td>Charmander</td>\n",
              "      <td>https://scrapeme.live/wp-content/uploads/2018/...</td>\n",
              "      <td>48.0</td>\n",
              "      <td>206</td>\n",
              "      <td>Lizard, Pokemon</td>\n",
              "      <td>Blaze, charmander, Lizard</td>\n",
              "      <td>The flame that burns at the tip of its tail is...</td>\n",
              "    </tr>\n",
              "    <tr>\n",
              "      <th>4</th>\n",
              "      <td>Charmeleon</td>\n",
              "      <td>https://scrapeme.live/wp-content/uploads/2018/...</td>\n",
              "      <td>165.0</td>\n",
              "      <td>284</td>\n",
              "      <td>Flame, Pokemon</td>\n",
              "      <td>Blaze, charmeleon, Flame</td>\n",
              "      <td>Charmeleon mercilessly destroys its foes using...</td>\n",
              "    </tr>\n",
              "    <tr>\n",
              "      <th>...</th>\n",
              "      <td>...</td>\n",
              "      <td>...</td>\n",
              "      <td>...</td>\n",
              "      <td>...</td>\n",
              "      <td>...</td>\n",
              "      <td>...</td>\n",
              "      <td>...</td>\n",
              "    </tr>\n",
              "    <tr>\n",
              "      <th>750</th>\n",
              "      <td>Marshadow</td>\n",
              "      <td>https://scrapeme.live/wp-content/uploads/2018/...</td>\n",
              "      <td>107.0</td>\n",
              "      <td>250</td>\n",
              "      <td>Gloomdweller, Pokemon</td>\n",
              "      <td>Gloomdweller, marshadow, Technician</td>\n",
              "      <td>It sinks into the shadows of people and Pokémo...</td>\n",
              "    </tr>\n",
              "    <tr>\n",
              "      <th>751</th>\n",
              "      <td>Poipole</td>\n",
              "      <td>https://scrapeme.live/wp-content/uploads/2018/...</td>\n",
              "      <td>130.0</td>\n",
              "      <td>21</td>\n",
              "      <td>Poison Pin, Pokemon</td>\n",
              "      <td>Beast Boost, poipole, Poison Pin</td>\n",
              "      <td>An Ultra Beast that lives in a different world...</td>\n",
              "    </tr>\n",
              "    <tr>\n",
              "      <th>752</th>\n",
              "      <td>Naganadel</td>\n",
              "      <td>https://scrapeme.live/wp-content/uploads/2018/...</td>\n",
              "      <td>30.0</td>\n",
              "      <td>255</td>\n",
              "      <td>Poison Pin, Pokemon</td>\n",
              "      <td>Beast Boost, naganadel, Poison Pin</td>\n",
              "      <td>One kind of Ultra Beast, it fires a glowing, v...</td>\n",
              "    </tr>\n",
              "    <tr>\n",
              "      <th>753</th>\n",
              "      <td>Stakataka</td>\n",
              "      <td>https://scrapeme.live/wp-content/uploads/2018/...</td>\n",
              "      <td>190.0</td>\n",
              "      <td>210</td>\n",
              "      <td>Pokemon, Rampart</td>\n",
              "      <td>Beast Boost, Rampart, stakataka</td>\n",
              "      <td>When stone walls started moving and attacking,...</td>\n",
              "    </tr>\n",
              "    <tr>\n",
              "      <th>754</th>\n",
              "      <td>Blacephalon</td>\n",
              "      <td>https://scrapeme.live/wp-content/uploads/2018/...</td>\n",
              "      <td>149.0</td>\n",
              "      <td>205</td>\n",
              "      <td>Fireworks, Pokemon</td>\n",
              "      <td>Beast Boost, blacephalon, Fireworks</td>\n",
              "      <td>A UB that appeared from an Ultra Wormhole, it ...</td>\n",
              "    </tr>\n",
              "  </tbody>\n",
              "</table>\n",
              "<p>755 rows × 7 columns</p>\n",
              "</div>"
            ],
            "text/plain": [
              "           title                                              image  price  \\\n",
              "0      Bulbasaur  https://scrapeme.live/wp-content/uploads/2018/...   63.0   \n",
              "1        Ivysaur  https://scrapeme.live/wp-content/uploads/2018/...   87.0   \n",
              "2       Venusaur  https://scrapeme.live/wp-content/uploads/2018/...  105.0   \n",
              "3     Charmander  https://scrapeme.live/wp-content/uploads/2018/...   48.0   \n",
              "4     Charmeleon  https://scrapeme.live/wp-content/uploads/2018/...  165.0   \n",
              "..           ...                                                ...    ...   \n",
              "750    Marshadow  https://scrapeme.live/wp-content/uploads/2018/...  107.0   \n",
              "751      Poipole  https://scrapeme.live/wp-content/uploads/2018/...  130.0   \n",
              "752    Naganadel  https://scrapeme.live/wp-content/uploads/2018/...   30.0   \n",
              "753    Stakataka  https://scrapeme.live/wp-content/uploads/2018/...  190.0   \n",
              "754  Blacephalon  https://scrapeme.live/wp-content/uploads/2018/...  149.0   \n",
              "\n",
              "     availability             categories                                 tags  \\\n",
              "0              45          Pokemon, Seed            bulbasaur, Overgrow, Seed   \n",
              "1             142          Pokemon, Seed              ivysaur, Overgrow, Seed   \n",
              "2              30          Pokemon, Seed             Overgrow, Seed, venusaur   \n",
              "3             206        Lizard, Pokemon            Blaze, charmander, Lizard   \n",
              "4             284         Flame, Pokemon             Blaze, charmeleon, Flame   \n",
              "..            ...                    ...                                  ...   \n",
              "750           250  Gloomdweller, Pokemon  Gloomdweller, marshadow, Technician   \n",
              "751            21    Poison Pin, Pokemon     Beast Boost, poipole, Poison Pin   \n",
              "752           255    Poison Pin, Pokemon   Beast Boost, naganadel, Poison Pin   \n",
              "753           210       Pokemon, Rampart      Beast Boost, Rampart, stakataka   \n",
              "754           205     Fireworks, Pokemon  Beast Boost, blacephalon, Fireworks   \n",
              "\n",
              "                                           description  \n",
              "0    Bulbasaur can be seen napping in bright sunlig...  \n",
              "1    There is a bud on this Pokémon’s back. To supp...  \n",
              "2    There is a large flower on Venusaur’s back. Th...  \n",
              "3    The flame that burns at the tip of its tail is...  \n",
              "4    Charmeleon mercilessly destroys its foes using...  \n",
              "..                                                 ...  \n",
              "750  It sinks into the shadows of people and Pokémo...  \n",
              "751  An Ultra Beast that lives in a different world...  \n",
              "752  One kind of Ultra Beast, it fires a glowing, v...  \n",
              "753  When stone walls started moving and attacking,...  \n",
              "754  A UB that appeared from an Ultra Wormhole, it ...  \n",
              "\n",
              "[755 rows x 7 columns]"
            ]
          },
          "execution_count": 7,
          "metadata": {},
          "output_type": "execute_result"
        }
      ],
      "source": [
        "df = pd.read_csv('items_data.csv')\n",
        "df"
      ]
    },
    {
      "cell_type": "markdown",
      "metadata": {
        "id": "vpL6og0vC-6x"
      },
      "source": [
        "# **Data Overview**"
      ]
    },
    {
      "cell_type": "code",
      "execution_count": 8,
      "metadata": {
        "colab": {
          "base_uri": "https://localhost:8080/"
        },
        "id": "vB0_i4yuCtpH",
        "outputId": "112276da-55b7-4a82-f863-51028f54519f"
      },
      "outputs": [
        {
          "data": {
            "text/plain": [
              "(755, 7)"
            ]
          },
          "execution_count": 8,
          "metadata": {},
          "output_type": "execute_result"
        }
      ],
      "source": [
        "df.shape       # rows, columns"
      ]
    },
    {
      "cell_type": "code",
      "execution_count": 9,
      "metadata": {
        "colab": {
          "base_uri": "https://localhost:8080/"
        },
        "id": "hKfhOxoBDFKX",
        "outputId": "27a48c6a-2938-47b4-c503-72c22cd3b843"
      },
      "outputs": [
        {
          "data": {
            "text/plain": [
              "Index(['title', 'image', 'price', 'availability', 'categories', 'tags',\n",
              "       'description'],\n",
              "      dtype='object')"
            ]
          },
          "execution_count": 9,
          "metadata": {},
          "output_type": "execute_result"
        }
      ],
      "source": [
        "# column names\n",
        "df.columns"
      ]
    },
    {
      "cell_type": "code",
      "execution_count": 10,
      "metadata": {
        "colab": {
          "base_uri": "https://localhost:8080/",
          "height": 379
        },
        "id": "F0eF6dGPDJ1B",
        "outputId": "bedd1b9d-1179-4b1e-8989-230ad45ef482"
      },
      "outputs": [
        {
          "data": {
            "text/html": [
              "<div>\n",
              "<style scoped>\n",
              "    .dataframe tbody tr th:only-of-type {\n",
              "        vertical-align: middle;\n",
              "    }\n",
              "\n",
              "    .dataframe tbody tr th {\n",
              "        vertical-align: top;\n",
              "    }\n",
              "\n",
              "    .dataframe thead th {\n",
              "        text-align: right;\n",
              "    }\n",
              "</style>\n",
              "<table border=\"1\" class=\"dataframe\">\n",
              "  <thead>\n",
              "    <tr style=\"text-align: right;\">\n",
              "      <th></th>\n",
              "      <th>title</th>\n",
              "      <th>image</th>\n",
              "      <th>price</th>\n",
              "      <th>availability</th>\n",
              "      <th>categories</th>\n",
              "      <th>tags</th>\n",
              "      <th>description</th>\n",
              "    </tr>\n",
              "  </thead>\n",
              "  <tbody>\n",
              "    <tr>\n",
              "      <th>0</th>\n",
              "      <td>Bulbasaur</td>\n",
              "      <td>https://scrapeme.live/wp-content/uploads/2018/...</td>\n",
              "      <td>63.0</td>\n",
              "      <td>45</td>\n",
              "      <td>Pokemon, Seed</td>\n",
              "      <td>bulbasaur, Overgrow, Seed</td>\n",
              "      <td>Bulbasaur can be seen napping in bright sunlig...</td>\n",
              "    </tr>\n",
              "    <tr>\n",
              "      <th>1</th>\n",
              "      <td>Ivysaur</td>\n",
              "      <td>https://scrapeme.live/wp-content/uploads/2018/...</td>\n",
              "      <td>87.0</td>\n",
              "      <td>142</td>\n",
              "      <td>Pokemon, Seed</td>\n",
              "      <td>ivysaur, Overgrow, Seed</td>\n",
              "      <td>There is a bud on this Pokémon’s back. To supp...</td>\n",
              "    </tr>\n",
              "    <tr>\n",
              "      <th>2</th>\n",
              "      <td>Venusaur</td>\n",
              "      <td>https://scrapeme.live/wp-content/uploads/2018/...</td>\n",
              "      <td>105.0</td>\n",
              "      <td>30</td>\n",
              "      <td>Pokemon, Seed</td>\n",
              "      <td>Overgrow, Seed, venusaur</td>\n",
              "      <td>There is a large flower on Venusaur’s back. Th...</td>\n",
              "    </tr>\n",
              "    <tr>\n",
              "      <th>3</th>\n",
              "      <td>Charmander</td>\n",
              "      <td>https://scrapeme.live/wp-content/uploads/2018/...</td>\n",
              "      <td>48.0</td>\n",
              "      <td>206</td>\n",
              "      <td>Lizard, Pokemon</td>\n",
              "      <td>Blaze, charmander, Lizard</td>\n",
              "      <td>The flame that burns at the tip of its tail is...</td>\n",
              "    </tr>\n",
              "    <tr>\n",
              "      <th>4</th>\n",
              "      <td>Charmeleon</td>\n",
              "      <td>https://scrapeme.live/wp-content/uploads/2018/...</td>\n",
              "      <td>165.0</td>\n",
              "      <td>284</td>\n",
              "      <td>Flame, Pokemon</td>\n",
              "      <td>Blaze, charmeleon, Flame</td>\n",
              "      <td>Charmeleon mercilessly destroys its foes using...</td>\n",
              "    </tr>\n",
              "  </tbody>\n",
              "</table>\n",
              "</div>"
            ],
            "text/plain": [
              "        title                                              image  price  \\\n",
              "0   Bulbasaur  https://scrapeme.live/wp-content/uploads/2018/...   63.0   \n",
              "1     Ivysaur  https://scrapeme.live/wp-content/uploads/2018/...   87.0   \n",
              "2    Venusaur  https://scrapeme.live/wp-content/uploads/2018/...  105.0   \n",
              "3  Charmander  https://scrapeme.live/wp-content/uploads/2018/...   48.0   \n",
              "4  Charmeleon  https://scrapeme.live/wp-content/uploads/2018/...  165.0   \n",
              "\n",
              "   availability       categories                       tags  \\\n",
              "0            45    Pokemon, Seed  bulbasaur, Overgrow, Seed   \n",
              "1           142    Pokemon, Seed    ivysaur, Overgrow, Seed   \n",
              "2            30    Pokemon, Seed   Overgrow, Seed, venusaur   \n",
              "3           206  Lizard, Pokemon  Blaze, charmander, Lizard   \n",
              "4           284   Flame, Pokemon   Blaze, charmeleon, Flame   \n",
              "\n",
              "                                         description  \n",
              "0  Bulbasaur can be seen napping in bright sunlig...  \n",
              "1  There is a bud on this Pokémon’s back. To supp...  \n",
              "2  There is a large flower on Venusaur’s back. Th...  \n",
              "3  The flame that burns at the tip of its tail is...  \n",
              "4  Charmeleon mercilessly destroys its foes using...  "
            ]
          },
          "execution_count": 10,
          "metadata": {},
          "output_type": "execute_result"
        }
      ],
      "source": [
        "# first 5 rows\n",
        "df.head()"
      ]
    },
    {
      "cell_type": "code",
      "execution_count": 11,
      "metadata": {
        "colab": {
          "base_uri": "https://localhost:8080/",
          "height": 397
        },
        "id": "AknllHfFDNpr",
        "outputId": "b01cb7c9-35d2-4b60-e665-020564cd7b87"
      },
      "outputs": [
        {
          "data": {
            "text/html": [
              "<div>\n",
              "<style scoped>\n",
              "    .dataframe tbody tr th:only-of-type {\n",
              "        vertical-align: middle;\n",
              "    }\n",
              "\n",
              "    .dataframe tbody tr th {\n",
              "        vertical-align: top;\n",
              "    }\n",
              "\n",
              "    .dataframe thead th {\n",
              "        text-align: right;\n",
              "    }\n",
              "</style>\n",
              "<table border=\"1\" class=\"dataframe\">\n",
              "  <thead>\n",
              "    <tr style=\"text-align: right;\">\n",
              "      <th></th>\n",
              "      <th>title</th>\n",
              "      <th>image</th>\n",
              "      <th>price</th>\n",
              "      <th>availability</th>\n",
              "      <th>categories</th>\n",
              "      <th>tags</th>\n",
              "      <th>description</th>\n",
              "    </tr>\n",
              "  </thead>\n",
              "  <tbody>\n",
              "    <tr>\n",
              "      <th>750</th>\n",
              "      <td>Marshadow</td>\n",
              "      <td>https://scrapeme.live/wp-content/uploads/2018/...</td>\n",
              "      <td>107.0</td>\n",
              "      <td>250</td>\n",
              "      <td>Gloomdweller, Pokemon</td>\n",
              "      <td>Gloomdweller, marshadow, Technician</td>\n",
              "      <td>It sinks into the shadows of people and Pokémo...</td>\n",
              "    </tr>\n",
              "    <tr>\n",
              "      <th>751</th>\n",
              "      <td>Poipole</td>\n",
              "      <td>https://scrapeme.live/wp-content/uploads/2018/...</td>\n",
              "      <td>130.0</td>\n",
              "      <td>21</td>\n",
              "      <td>Poison Pin, Pokemon</td>\n",
              "      <td>Beast Boost, poipole, Poison Pin</td>\n",
              "      <td>An Ultra Beast that lives in a different world...</td>\n",
              "    </tr>\n",
              "    <tr>\n",
              "      <th>752</th>\n",
              "      <td>Naganadel</td>\n",
              "      <td>https://scrapeme.live/wp-content/uploads/2018/...</td>\n",
              "      <td>30.0</td>\n",
              "      <td>255</td>\n",
              "      <td>Poison Pin, Pokemon</td>\n",
              "      <td>Beast Boost, naganadel, Poison Pin</td>\n",
              "      <td>One kind of Ultra Beast, it fires a glowing, v...</td>\n",
              "    </tr>\n",
              "    <tr>\n",
              "      <th>753</th>\n",
              "      <td>Stakataka</td>\n",
              "      <td>https://scrapeme.live/wp-content/uploads/2018/...</td>\n",
              "      <td>190.0</td>\n",
              "      <td>210</td>\n",
              "      <td>Pokemon, Rampart</td>\n",
              "      <td>Beast Boost, Rampart, stakataka</td>\n",
              "      <td>When stone walls started moving and attacking,...</td>\n",
              "    </tr>\n",
              "    <tr>\n",
              "      <th>754</th>\n",
              "      <td>Blacephalon</td>\n",
              "      <td>https://scrapeme.live/wp-content/uploads/2018/...</td>\n",
              "      <td>149.0</td>\n",
              "      <td>205</td>\n",
              "      <td>Fireworks, Pokemon</td>\n",
              "      <td>Beast Boost, blacephalon, Fireworks</td>\n",
              "      <td>A UB that appeared from an Ultra Wormhole, it ...</td>\n",
              "    </tr>\n",
              "  </tbody>\n",
              "</table>\n",
              "</div>"
            ],
            "text/plain": [
              "           title                                              image  price  \\\n",
              "750    Marshadow  https://scrapeme.live/wp-content/uploads/2018/...  107.0   \n",
              "751      Poipole  https://scrapeme.live/wp-content/uploads/2018/...  130.0   \n",
              "752    Naganadel  https://scrapeme.live/wp-content/uploads/2018/...   30.0   \n",
              "753    Stakataka  https://scrapeme.live/wp-content/uploads/2018/...  190.0   \n",
              "754  Blacephalon  https://scrapeme.live/wp-content/uploads/2018/...  149.0   \n",
              "\n",
              "     availability             categories                                 tags  \\\n",
              "750           250  Gloomdweller, Pokemon  Gloomdweller, marshadow, Technician   \n",
              "751            21    Poison Pin, Pokemon     Beast Boost, poipole, Poison Pin   \n",
              "752           255    Poison Pin, Pokemon   Beast Boost, naganadel, Poison Pin   \n",
              "753           210       Pokemon, Rampart      Beast Boost, Rampart, stakataka   \n",
              "754           205     Fireworks, Pokemon  Beast Boost, blacephalon, Fireworks   \n",
              "\n",
              "                                           description  \n",
              "750  It sinks into the shadows of people and Pokémo...  \n",
              "751  An Ultra Beast that lives in a different world...  \n",
              "752  One kind of Ultra Beast, it fires a glowing, v...  \n",
              "753  When stone walls started moving and attacking,...  \n",
              "754  A UB that appeared from an Ultra Wormhole, it ...  "
            ]
          },
          "execution_count": 11,
          "metadata": {},
          "output_type": "execute_result"
        }
      ],
      "source": [
        "# last 5 rows\n",
        "df.tail()"
      ]
    },
    {
      "cell_type": "code",
      "execution_count": 12,
      "metadata": {
        "colab": {
          "base_uri": "https://localhost:8080/"
        },
        "id": "4O31KceCDQdO",
        "outputId": "fb3aa28a-09a1-4b15-9666-ffc13abb324e"
      },
      "outputs": [
        {
          "name": "stdout",
          "output_type": "stream",
          "text": [
            "<class 'pandas.core.frame.DataFrame'>\n",
            "RangeIndex: 755 entries, 0 to 754\n",
            "Data columns (total 7 columns):\n",
            " #   Column        Non-Null Count  Dtype  \n",
            "---  ------        --------------  -----  \n",
            " 0   title         755 non-null    object \n",
            " 1   image         755 non-null    object \n",
            " 2   price         755 non-null    float64\n",
            " 3   availability  755 non-null    int64  \n",
            " 4   categories    755 non-null    object \n",
            " 5   tags          755 non-null    object \n",
            " 6   description   755 non-null    object \n",
            "dtypes: float64(1), int64(1), object(5)\n",
            "memory usage: 41.4+ KB\n"
          ]
        }
      ],
      "source": [
        "# Checking the data types, non-null counts\n",
        "df.info()"
      ]
    },
    {
      "cell_type": "code",
      "execution_count": 13,
      "metadata": {
        "colab": {
          "base_uri": "https://localhost:8080/",
          "height": 300
        },
        "id": "1U5_jwgeDVBu",
        "outputId": "4dc91c7d-84b8-43c9-f2ae-1041859a52bd"
      },
      "outputs": [
        {
          "data": {
            "text/html": [
              "<div>\n",
              "<style scoped>\n",
              "    .dataframe tbody tr th:only-of-type {\n",
              "        vertical-align: middle;\n",
              "    }\n",
              "\n",
              "    .dataframe tbody tr th {\n",
              "        vertical-align: top;\n",
              "    }\n",
              "\n",
              "    .dataframe thead th {\n",
              "        text-align: right;\n",
              "    }\n",
              "</style>\n",
              "<table border=\"1\" class=\"dataframe\">\n",
              "  <thead>\n",
              "    <tr style=\"text-align: right;\">\n",
              "      <th></th>\n",
              "      <th>price</th>\n",
              "      <th>availability</th>\n",
              "    </tr>\n",
              "  </thead>\n",
              "  <tbody>\n",
              "    <tr>\n",
              "      <th>count</th>\n",
              "      <td>755.000000</td>\n",
              "      <td>755.000000</td>\n",
              "    </tr>\n",
              "    <tr>\n",
              "      <th>mean</th>\n",
              "      <td>110.948344</td>\n",
              "      <td>154.778808</td>\n",
              "    </tr>\n",
              "    <tr>\n",
              "      <th>std</th>\n",
              "      <td>51.702359</td>\n",
              "      <td>84.303655</td>\n",
              "    </tr>\n",
              "    <tr>\n",
              "      <th>min</th>\n",
              "      <td>25.000000</td>\n",
              "      <td>10.000000</td>\n",
              "    </tr>\n",
              "    <tr>\n",
              "      <th>25%</th>\n",
              "      <td>66.000000</td>\n",
              "      <td>80.000000</td>\n",
              "    </tr>\n",
              "    <tr>\n",
              "      <th>50%</th>\n",
              "      <td>111.000000</td>\n",
              "      <td>151.000000</td>\n",
              "    </tr>\n",
              "    <tr>\n",
              "      <th>75%</th>\n",
              "      <td>157.000000</td>\n",
              "      <td>228.500000</td>\n",
              "    </tr>\n",
              "    <tr>\n",
              "      <th>max</th>\n",
              "      <td>200.000000</td>\n",
              "      <td>300.000000</td>\n",
              "    </tr>\n",
              "  </tbody>\n",
              "</table>\n",
              "</div>"
            ],
            "text/plain": [
              "            price  availability\n",
              "count  755.000000    755.000000\n",
              "mean   110.948344    154.778808\n",
              "std     51.702359     84.303655\n",
              "min     25.000000     10.000000\n",
              "25%     66.000000     80.000000\n",
              "50%    111.000000    151.000000\n",
              "75%    157.000000    228.500000\n",
              "max    200.000000    300.000000"
            ]
          },
          "execution_count": 13,
          "metadata": {},
          "output_type": "execute_result"
        }
      ],
      "source": [
        "# summary for numbers columns\n",
        "df.describe()"
      ]
    },
    {
      "cell_type": "code",
      "execution_count": 14,
      "metadata": {
        "colab": {
          "base_uri": "https://localhost:8080/",
          "height": 303
        },
        "id": "buod3lgzDdOk",
        "outputId": "26672250-c720-48b1-ac01-84aca438aeb6"
      },
      "outputs": [
        {
          "data": {
            "text/plain": [
              "title           0\n",
              "image           0\n",
              "price           0\n",
              "availability    0\n",
              "categories      0\n",
              "tags            0\n",
              "description     0\n",
              "dtype: int64"
            ]
          },
          "execution_count": 14,
          "metadata": {},
          "output_type": "execute_result"
        }
      ],
      "source": [
        "# Missing values check\n",
        "df.isnull().sum()"
      ]
    },
    {
      "cell_type": "code",
      "execution_count": 15,
      "metadata": {
        "colab": {
          "base_uri": "https://localhost:8080/",
          "height": 379
        },
        "id": "XpuT3OFgDhm4",
        "outputId": "8ab2c909-4829-450c-de74-08d6ebac5bf5"
      },
      "outputs": [
        {
          "data": {
            "text/html": [
              "<div>\n",
              "<style scoped>\n",
              "    .dataframe tbody tr th:only-of-type {\n",
              "        vertical-align: middle;\n",
              "    }\n",
              "\n",
              "    .dataframe tbody tr th {\n",
              "        vertical-align: top;\n",
              "    }\n",
              "\n",
              "    .dataframe thead th {\n",
              "        text-align: right;\n",
              "    }\n",
              "</style>\n",
              "<table border=\"1\" class=\"dataframe\">\n",
              "  <thead>\n",
              "    <tr style=\"text-align: right;\">\n",
              "      <th></th>\n",
              "      <th>title</th>\n",
              "      <th>image</th>\n",
              "      <th>price</th>\n",
              "      <th>availability</th>\n",
              "      <th>categories</th>\n",
              "      <th>tags</th>\n",
              "      <th>description</th>\n",
              "    </tr>\n",
              "  </thead>\n",
              "  <tbody>\n",
              "    <tr>\n",
              "      <th>0</th>\n",
              "      <td>Bulbasaur</td>\n",
              "      <td>https://scrapeme.live/wp-content/uploads/2018/...</td>\n",
              "      <td>63.0</td>\n",
              "      <td>45</td>\n",
              "      <td>Pokemon, Seed</td>\n",
              "      <td>bulbasaur, Overgrow, Seed</td>\n",
              "      <td>Bulbasaur can be seen napping in bright sunlig...</td>\n",
              "    </tr>\n",
              "    <tr>\n",
              "      <th>1</th>\n",
              "      <td>Ivysaur</td>\n",
              "      <td>https://scrapeme.live/wp-content/uploads/2018/...</td>\n",
              "      <td>87.0</td>\n",
              "      <td>142</td>\n",
              "      <td>Pokemon, Seed</td>\n",
              "      <td>ivysaur, Overgrow, Seed</td>\n",
              "      <td>There is a bud on this Pokémon’s back. To supp...</td>\n",
              "    </tr>\n",
              "    <tr>\n",
              "      <th>2</th>\n",
              "      <td>Venusaur</td>\n",
              "      <td>https://scrapeme.live/wp-content/uploads/2018/...</td>\n",
              "      <td>105.0</td>\n",
              "      <td>30</td>\n",
              "      <td>Pokemon, Seed</td>\n",
              "      <td>Overgrow, Seed, venusaur</td>\n",
              "      <td>There is a large flower on Venusaur’s back. Th...</td>\n",
              "    </tr>\n",
              "    <tr>\n",
              "      <th>3</th>\n",
              "      <td>Charmander</td>\n",
              "      <td>https://scrapeme.live/wp-content/uploads/2018/...</td>\n",
              "      <td>48.0</td>\n",
              "      <td>206</td>\n",
              "      <td>Lizard, Pokemon</td>\n",
              "      <td>Blaze, charmander, Lizard</td>\n",
              "      <td>The flame that burns at the tip of its tail is...</td>\n",
              "    </tr>\n",
              "    <tr>\n",
              "      <th>4</th>\n",
              "      <td>Charmeleon</td>\n",
              "      <td>https://scrapeme.live/wp-content/uploads/2018/...</td>\n",
              "      <td>165.0</td>\n",
              "      <td>284</td>\n",
              "      <td>Flame, Pokemon</td>\n",
              "      <td>Blaze, charmeleon, Flame</td>\n",
              "      <td>Charmeleon mercilessly destroys its foes using...</td>\n",
              "    </tr>\n",
              "  </tbody>\n",
              "</table>\n",
              "</div>"
            ],
            "text/plain": [
              "        title                                              image  price  \\\n",
              "0   Bulbasaur  https://scrapeme.live/wp-content/uploads/2018/...   63.0   \n",
              "1     Ivysaur  https://scrapeme.live/wp-content/uploads/2018/...   87.0   \n",
              "2    Venusaur  https://scrapeme.live/wp-content/uploads/2018/...  105.0   \n",
              "3  Charmander  https://scrapeme.live/wp-content/uploads/2018/...   48.0   \n",
              "4  Charmeleon  https://scrapeme.live/wp-content/uploads/2018/...  165.0   \n",
              "\n",
              "   availability       categories                       tags  \\\n",
              "0            45    Pokemon, Seed  bulbasaur, Overgrow, Seed   \n",
              "1           142    Pokemon, Seed    ivysaur, Overgrow, Seed   \n",
              "2            30    Pokemon, Seed   Overgrow, Seed, venusaur   \n",
              "3           206  Lizard, Pokemon  Blaze, charmander, Lizard   \n",
              "4           284   Flame, Pokemon   Blaze, charmeleon, Flame   \n",
              "\n",
              "                                         description  \n",
              "0  Bulbasaur can be seen napping in bright sunlig...  \n",
              "1  There is a bud on this Pokémon’s back. To supp...  \n",
              "2  There is a large flower on Venusaur’s back. Th...  \n",
              "3  The flame that burns at the tip of its tail is...  \n",
              "4  Charmeleon mercilessly destroys its foes using...  "
            ]
          },
          "execution_count": 15,
          "metadata": {},
          "output_type": "execute_result"
        }
      ],
      "source": [
        "# First 5 products\n",
        "df.iloc[0:5]"
      ]
    },
    {
      "cell_type": "code",
      "execution_count": 16,
      "metadata": {
        "colab": {
          "base_uri": "https://localhost:8080/",
          "height": 237
        },
        "id": "7OnLxGBMDi0n",
        "outputId": "8ce66868-bac5-43be-9774-bd1f40ee73d0"
      },
      "outputs": [
        {
          "data": {
            "text/html": [
              "<div>\n",
              "<style scoped>\n",
              "    .dataframe tbody tr th:only-of-type {\n",
              "        vertical-align: middle;\n",
              "    }\n",
              "\n",
              "    .dataframe tbody tr th {\n",
              "        vertical-align: top;\n",
              "    }\n",
              "\n",
              "    .dataframe thead th {\n",
              "        text-align: right;\n",
              "    }\n",
              "</style>\n",
              "<table border=\"1\" class=\"dataframe\">\n",
              "  <thead>\n",
              "    <tr style=\"text-align: right;\">\n",
              "      <th></th>\n",
              "      <th>title</th>\n",
              "      <th>price</th>\n",
              "      <th>description</th>\n",
              "    </tr>\n",
              "  </thead>\n",
              "  <tbody>\n",
              "    <tr>\n",
              "      <th>0</th>\n",
              "      <td>Bulbasaur</td>\n",
              "      <td>63.0</td>\n",
              "      <td>Bulbasaur can be seen napping in bright sunlig...</td>\n",
              "    </tr>\n",
              "    <tr>\n",
              "      <th>1</th>\n",
              "      <td>Ivysaur</td>\n",
              "      <td>87.0</td>\n",
              "      <td>There is a bud on this Pokémon’s back. To supp...</td>\n",
              "    </tr>\n",
              "    <tr>\n",
              "      <th>2</th>\n",
              "      <td>Venusaur</td>\n",
              "      <td>105.0</td>\n",
              "      <td>There is a large flower on Venusaur’s back. Th...</td>\n",
              "    </tr>\n",
              "    <tr>\n",
              "      <th>3</th>\n",
              "      <td>Charmander</td>\n",
              "      <td>48.0</td>\n",
              "      <td>The flame that burns at the tip of its tail is...</td>\n",
              "    </tr>\n",
              "    <tr>\n",
              "      <th>4</th>\n",
              "      <td>Charmeleon</td>\n",
              "      <td>165.0</td>\n",
              "      <td>Charmeleon mercilessly destroys its foes using...</td>\n",
              "    </tr>\n",
              "    <tr>\n",
              "      <th>5</th>\n",
              "      <td>Charizard</td>\n",
              "      <td>156.0</td>\n",
              "      <td>Charizard flies around the sky in search of po...</td>\n",
              "    </tr>\n",
              "  </tbody>\n",
              "</table>\n",
              "</div>"
            ],
            "text/plain": [
              "        title  price                                        description\n",
              "0   Bulbasaur   63.0  Bulbasaur can be seen napping in bright sunlig...\n",
              "1     Ivysaur   87.0  There is a bud on this Pokémon’s back. To supp...\n",
              "2    Venusaur  105.0  There is a large flower on Venusaur’s back. Th...\n",
              "3  Charmander   48.0  The flame that burns at the tip of its tail is...\n",
              "4  Charmeleon  165.0  Charmeleon mercilessly destroys its foes using...\n",
              "5   Charizard  156.0  Charizard flies around the sky in search of po..."
            ]
          },
          "execution_count": 16,
          "metadata": {},
          "output_type": "execute_result"
        }
      ],
      "source": [
        "# First 5 product names,  prices and descrption\n",
        "df.loc[0:5, [\"title\", \"price\",\"description\"]]"
      ]
    },
    {
      "cell_type": "code",
      "execution_count": 17,
      "metadata": {
        "colab": {
          "base_uri": "https://localhost:8080/",
          "height": 429
        },
        "id": "dZECm9MoD08C",
        "outputId": "f5f7af26-0d69-4a89-dda0-d1d2be005e0b"
      },
      "outputs": [
        {
          "data": {
            "text/plain": [
              "categories\n",
              "Dragon, Pokemon        8\n",
              "Mouse, Pokemon         6\n",
              "Mushroom, Pokemon      5\n",
              "Flame, Pokemon         5\n",
              "Fox, Pokemon           5\n",
              "Balloon, Pokemon       5\n",
              "Fairy, Pokemon         4\n",
              "Poison Pin, Pokemon    4\n",
              "Bat, Pokemon           4\n",
              "Pokemon, Seed          4\n",
              "Name: count, dtype: int64"
            ]
          },
          "execution_count": 17,
          "metadata": {},
          "output_type": "execute_result"
        }
      ],
      "source": [
        "# most common categories\n",
        "df[\"categories\"].value_counts().head(10)"
      ]
    },
    {
      "cell_type": "code",
      "execution_count": 18,
      "metadata": {
        "colab": {
          "base_uri": "https://localhost:8080/",
          "height": 272
        },
        "id": "KbLzk15CD8eA",
        "outputId": "95fbdff2-6975-4e37-d326-e1482a435caf"
      },
      "outputs": [
        {
          "data": {
            "text/plain": [
              "tags\n",
              "bulbasaur, Overgrow, Seed          1\n",
              "Compressed, gigalith, Sturdy       1\n",
              "Geyser, Gluttony, simipour         1\n",
              "Dream Eater, munna, Synchronize    1\n",
              "Drowsing, musharna, Synchronize    1\n",
              "Name: count, dtype: int64"
            ]
          },
          "execution_count": 18,
          "metadata": {},
          "output_type": "execute_result"
        }
      ],
      "source": [
        "# the common tags\n",
        "df[\"tags\"].value_counts().head(5)"
      ]
    },
    {
      "cell_type": "code",
      "execution_count": 19,
      "metadata": {
        "colab": {
          "base_uri": "https://localhost:8080/",
          "height": 429
        },
        "id": "n78HH6DUERbZ",
        "outputId": "c2968ac8-5c44-4a19-9d48-6eebfd912385"
      },
      "outputs": [
        {
          "data": {
            "text/plain": [
              "categories\n",
              "Knowledge, Pokemon       200.0\n",
              "Blast, Pokemon           200.0\n",
              "Classy Cat, Pokemon      200.0\n",
              "Hostile, Pokemon         199.0\n",
              "Pokemon, Wild Pigeon     199.0\n",
              "Armor Bird, Pokemon      199.0\n",
              "Pokemon, String Spit     199.0\n",
              "Pokemon, Symbol          198.0\n",
              "Grass Monkey, Pokemon    197.0\n",
              "Drawn Sword, Pokemon     197.0\n",
              "Name: price, dtype: float64"
            ]
          },
          "execution_count": 19,
          "metadata": {},
          "output_type": "execute_result"
        }
      ],
      "source": [
        "# Average price per category\n",
        "df.groupby(\"categories\")[\"price\"].mean().sort_values(ascending=False).head(10)"
      ]
    },
    {
      "cell_type": "code",
      "execution_count": 20,
      "metadata": {
        "colab": {
          "base_uri": "https://localhost:8080/",
          "height": 362
        },
        "id": "acsGcaHiNozf",
        "outputId": "b8b05603-f19f-4080-d18a-bab3c9eed225"
      },
      "outputs": [
        {
          "data": {
            "text/html": [
              "<div>\n",
              "<style scoped>\n",
              "    .dataframe tbody tr th:only-of-type {\n",
              "        vertical-align: middle;\n",
              "    }\n",
              "\n",
              "    .dataframe tbody tr th {\n",
              "        vertical-align: top;\n",
              "    }\n",
              "\n",
              "    .dataframe thead th {\n",
              "        text-align: right;\n",
              "    }\n",
              "</style>\n",
              "<table border=\"1\" class=\"dataframe\">\n",
              "  <thead>\n",
              "    <tr style=\"text-align: right;\">\n",
              "      <th></th>\n",
              "      <th>title</th>\n",
              "      <th>image</th>\n",
              "      <th>price</th>\n",
              "      <th>availability</th>\n",
              "      <th>categories</th>\n",
              "      <th>tags</th>\n",
              "      <th>description</th>\n",
              "    </tr>\n",
              "  </thead>\n",
              "  <tbody>\n",
              "    <tr>\n",
              "      <th>322</th>\n",
              "      <td>Vibrava</td>\n",
              "      <td>https://scrapeme.live/wp-content/uploads/2018/...</td>\n",
              "      <td>200.0</td>\n",
              "      <td>218</td>\n",
              "      <td>Pokemon, Vibration</td>\n",
              "      <td>Levitate, Vibration, vibrava</td>\n",
              "      <td>Vibrava’s wings have not yet completed the pro...</td>\n",
              "    </tr>\n",
              "    <tr>\n",
              "      <th>452</th>\n",
              "      <td>Magmortar</td>\n",
              "      <td>https://scrapeme.live/wp-content/uploads/2018/...</td>\n",
              "      <td>200.0</td>\n",
              "      <td>149</td>\n",
              "      <td>Blast, Pokemon</td>\n",
              "      <td>Blast, Flame Body, magmortar</td>\n",
              "      <td>It blasts fireballs of over 3,600 degrees Fahr...</td>\n",
              "    </tr>\n",
              "    <tr>\n",
              "      <th>50</th>\n",
              "      <td>Persian</td>\n",
              "      <td>https://scrapeme.live/wp-content/uploads/2018/...</td>\n",
              "      <td>200.0</td>\n",
              "      <td>108</td>\n",
              "      <td>Classy Cat, Pokemon</td>\n",
              "      <td>Classy Cat, persian, Technician</td>\n",
              "      <td>Persian has six bold whiskers that give it a l...</td>\n",
              "    </tr>\n",
              "    <tr>\n",
              "      <th>464</th>\n",
              "      <td>Uxie</td>\n",
              "      <td>https://scrapeme.live/wp-content/uploads/2018/...</td>\n",
              "      <td>200.0</td>\n",
              "      <td>138</td>\n",
              "      <td>Knowledge, Pokemon</td>\n",
              "      <td>Knowledge, Levitate, uxie</td>\n",
              "      <td>It is said that its emergence gave humans the ...</td>\n",
              "    </tr>\n",
              "    <tr>\n",
              "      <th>220</th>\n",
              "      <td>Skarmory</td>\n",
              "      <td>https://scrapeme.live/wp-content/uploads/2018/...</td>\n",
              "      <td>199.0</td>\n",
              "      <td>102</td>\n",
              "      <td>Armor Bird, Pokemon</td>\n",
              "      <td>Armor Bird, Keen Eye, skarmory</td>\n",
              "      <td>Skarmory’s steel wings become tattered and bas...</td>\n",
              "    </tr>\n",
              "  </tbody>\n",
              "</table>\n",
              "</div>"
            ],
            "text/plain": [
              "         title                                              image  price  \\\n",
              "322    Vibrava  https://scrapeme.live/wp-content/uploads/2018/...  200.0   \n",
              "452  Magmortar  https://scrapeme.live/wp-content/uploads/2018/...  200.0   \n",
              "50     Persian  https://scrapeme.live/wp-content/uploads/2018/...  200.0   \n",
              "464       Uxie  https://scrapeme.live/wp-content/uploads/2018/...  200.0   \n",
              "220   Skarmory  https://scrapeme.live/wp-content/uploads/2018/...  199.0   \n",
              "\n",
              "     availability           categories                             tags  \\\n",
              "322           218   Pokemon, Vibration     Levitate, Vibration, vibrava   \n",
              "452           149       Blast, Pokemon     Blast, Flame Body, magmortar   \n",
              "50            108  Classy Cat, Pokemon  Classy Cat, persian, Technician   \n",
              "464           138   Knowledge, Pokemon        Knowledge, Levitate, uxie   \n",
              "220           102  Armor Bird, Pokemon   Armor Bird, Keen Eye, skarmory   \n",
              "\n",
              "                                           description  \n",
              "322  Vibrava’s wings have not yet completed the pro...  \n",
              "452  It blasts fireballs of over 3,600 degrees Fahr...  \n",
              "50   Persian has six bold whiskers that give it a l...  \n",
              "464  It is said that its emergence gave humans the ...  \n",
              "220  Skarmory’s steel wings become tattered and bas...  "
            ]
          },
          "execution_count": 20,
          "metadata": {},
          "output_type": "execute_result"
        }
      ],
      "source": [
        "# Highest price products\n",
        "df.sort_values(\"price\", ascending=False).head(5)"
      ]
    },
    {
      "cell_type": "code",
      "execution_count": 21,
      "metadata": {
        "colab": {
          "base_uri": "https://localhost:8080/",
          "height": 990
        },
        "id": "UCAlepc9Ntse",
        "outputId": "d4ec38bd-fba9-4ac7-c97d-429c9312cd49"
      },
      "outputs": [
        {
          "data": {
            "text/html": [
              "<div>\n",
              "<style scoped>\n",
              "    .dataframe tbody tr th:only-of-type {\n",
              "        vertical-align: middle;\n",
              "    }\n",
              "\n",
              "    .dataframe tbody tr th {\n",
              "        vertical-align: top;\n",
              "    }\n",
              "\n",
              "    .dataframe thead th {\n",
              "        text-align: right;\n",
              "    }\n",
              "</style>\n",
              "<table border=\"1\" class=\"dataframe\">\n",
              "  <thead>\n",
              "    <tr style=\"text-align: right;\">\n",
              "      <th></th>\n",
              "      <th>title</th>\n",
              "      <th>price</th>\n",
              "    </tr>\n",
              "  </thead>\n",
              "  <tbody>\n",
              "    <tr>\n",
              "      <th>12</th>\n",
              "      <td>Weedle</td>\n",
              "      <td>25.0</td>\n",
              "    </tr>\n",
              "    <tr>\n",
              "      <th>28</th>\n",
              "      <td>Nidorina</td>\n",
              "      <td>28.0</td>\n",
              "    </tr>\n",
              "    <tr>\n",
              "      <th>44</th>\n",
              "      <td>Parasect</td>\n",
              "      <td>27.0</td>\n",
              "    </tr>\n",
              "    <tr>\n",
              "      <th>64</th>\n",
              "      <td>Machoke</td>\n",
              "      <td>27.0</td>\n",
              "    </tr>\n",
              "    <tr>\n",
              "      <th>67</th>\n",
              "      <td>Weepinbell</td>\n",
              "      <td>26.0</td>\n",
              "    </tr>\n",
              "    <tr>\n",
              "      <th>109</th>\n",
              "      <td>Rhydon</td>\n",
              "      <td>27.0</td>\n",
              "    </tr>\n",
              "    <tr>\n",
              "      <th>179</th>\n",
              "      <td>Bellossom</td>\n",
              "      <td>25.0</td>\n",
              "    </tr>\n",
              "    <tr>\n",
              "      <th>215</th>\n",
              "      <td>Corsola</td>\n",
              "      <td>27.0</td>\n",
              "    </tr>\n",
              "    <tr>\n",
              "      <th>234</th>\n",
              "      <td>Miltank</td>\n",
              "      <td>26.0</td>\n",
              "    </tr>\n",
              "    <tr>\n",
              "      <th>237</th>\n",
              "      <td>Entei</td>\n",
              "      <td>27.0</td>\n",
              "    </tr>\n",
              "    <tr>\n",
              "      <th>239</th>\n",
              "      <td>Larvitar</td>\n",
              "      <td>26.0</td>\n",
              "    </tr>\n",
              "    <tr>\n",
              "      <th>248</th>\n",
              "      <td>Torchic</td>\n",
              "      <td>28.0</td>\n",
              "    </tr>\n",
              "    <tr>\n",
              "      <th>266</th>\n",
              "      <td>Seedot</td>\n",
              "      <td>26.0</td>\n",
              "    </tr>\n",
              "    <tr>\n",
              "      <th>267</th>\n",
              "      <td>Nuzleaf</td>\n",
              "      <td>26.0</td>\n",
              "    </tr>\n",
              "    <tr>\n",
              "      <th>281</th>\n",
              "      <td>Vigoroth</td>\n",
              "      <td>25.0</td>\n",
              "    </tr>\n",
              "    <tr>\n",
              "      <th>311</th>\n",
              "      <td>Carvanha</td>\n",
              "      <td>25.0</td>\n",
              "    </tr>\n",
              "    <tr>\n",
              "      <th>356</th>\n",
              "      <td>Walrein</td>\n",
              "      <td>27.0</td>\n",
              "    </tr>\n",
              "    <tr>\n",
              "      <th>373</th>\n",
              "      <td>Kyogre</td>\n",
              "      <td>27.0</td>\n",
              "    </tr>\n",
              "    <tr>\n",
              "      <th>457</th>\n",
              "      <td>Gliscor</td>\n",
              "      <td>28.0</td>\n",
              "    </tr>\n",
              "    <tr>\n",
              "      <th>465</th>\n",
              "      <td>Mesprit</td>\n",
              "      <td>25.0</td>\n",
              "    </tr>\n",
              "    <tr>\n",
              "      <th>488</th>\n",
              "      <td>Lillipup</td>\n",
              "      <td>28.0</td>\n",
              "    </tr>\n",
              "    <tr>\n",
              "      <th>508</th>\n",
              "      <td>Woobat</td>\n",
              "      <td>27.0</td>\n",
              "    </tr>\n",
              "    <tr>\n",
              "      <th>527</th>\n",
              "      <td>Whimsicott</td>\n",
              "      <td>26.0</td>\n",
              "    </tr>\n",
              "    <tr>\n",
              "      <th>588</th>\n",
              "      <td>Beartic</td>\n",
              "      <td>28.0</td>\n",
              "    </tr>\n",
              "    <tr>\n",
              "      <th>606</th>\n",
              "      <td>Durant</td>\n",
              "      <td>28.0</td>\n",
              "    </tr>\n",
              "    <tr>\n",
              "      <th>655</th>\n",
              "      <td>Clauncher</td>\n",
              "      <td>29.0</td>\n",
              "    </tr>\n",
              "    <tr>\n",
              "      <th>660</th>\n",
              "      <td>Tyrantrum</td>\n",
              "      <td>26.0</td>\n",
              "    </tr>\n",
              "    <tr>\n",
              "      <th>679</th>\n",
              "      <td>Diancie</td>\n",
              "      <td>27.0</td>\n",
              "    </tr>\n",
              "    <tr>\n",
              "      <th>718</th>\n",
              "      <td>Steenee</td>\n",
              "      <td>27.0</td>\n",
              "    </tr>\n",
              "    <tr>\n",
              "      <th>720</th>\n",
              "      <td>Comfey</td>\n",
              "      <td>28.0</td>\n",
              "    </tr>\n",
              "  </tbody>\n",
              "</table>\n",
              "</div>"
            ],
            "text/plain": [
              "          title  price\n",
              "12       Weedle   25.0\n",
              "28     Nidorina   28.0\n",
              "44     Parasect   27.0\n",
              "64      Machoke   27.0\n",
              "67   Weepinbell   26.0\n",
              "109      Rhydon   27.0\n",
              "179   Bellossom   25.0\n",
              "215     Corsola   27.0\n",
              "234     Miltank   26.0\n",
              "237       Entei   27.0\n",
              "239    Larvitar   26.0\n",
              "248     Torchic   28.0\n",
              "266      Seedot   26.0\n",
              "267     Nuzleaf   26.0\n",
              "281    Vigoroth   25.0\n",
              "311    Carvanha   25.0\n",
              "356     Walrein   27.0\n",
              "373      Kyogre   27.0\n",
              "457     Gliscor   28.0\n",
              "465     Mesprit   25.0\n",
              "488    Lillipup   28.0\n",
              "508      Woobat   27.0\n",
              "527  Whimsicott   26.0\n",
              "588     Beartic   28.0\n",
              "606      Durant   28.0\n",
              "655   Clauncher   29.0\n",
              "660   Tyrantrum   26.0\n",
              "679     Diancie   27.0\n",
              "718     Steenee   27.0\n",
              "720      Comfey   28.0"
            ]
          },
          "execution_count": 21,
          "metadata": {},
          "output_type": "execute_result"
        }
      ],
      "source": [
        "# lowest price products with loc\n",
        "df.loc[df[\"price\"] < 30, [\"title\", \"price\"]]"
      ]
    },
    {
      "cell_type": "code",
      "execution_count": 22,
      "metadata": {
        "colab": {
          "base_uri": "https://localhost:8080/"
        },
        "id": "Z7D3YB4zN943",
        "outputId": "f869f20e-c4a8-425d-90ed-570ae3dde829"
      },
      "outputs": [
        {
          "name": "stdout",
          "output_type": "stream",
          "text": [
            "categories\n",
            "Dragon, Pokemon        8\n",
            "Mouse, Pokemon         6\n",
            "Mushroom, Pokemon      5\n",
            "Flame, Pokemon         5\n",
            "Fox, Pokemon           5\n",
            "                      ..\n",
            "Old Shrimp, Pokemon    1\n",
            "Barnacle, Pokemon      1\n",
            "Pokemon, Sea Lily      1\n",
            "Pokemon, Rogue         1\n",
            "Fireworks, Pokemon     1\n",
            "Name: count, Length: 554, dtype: int64\n"
          ]
        }
      ],
      "source": [
        "print(df[\"categories\"].value_counts())"
      ]
    },
    {
      "cell_type": "code",
      "execution_count": 23,
      "metadata": {
        "colab": {
          "base_uri": "https://localhost:8080/"
        },
        "id": "ouRS4gvsPbzp",
        "outputId": "14c102fb-0335-4290-ab9b-dbb769daa250"
      },
      "outputs": [
        {
          "name": "stdout",
          "output_type": "stream",
          "text": [
            "         title  availability  price\n",
            "18     Rattata            16  128.0\n",
            "44    Parasect            17   27.0\n",
            "56    Arcanine            14   69.0\n",
            "64     Machoke            10   27.0\n",
            "78   Magnemite            16  100.0\n",
            "123     Magmar            16  130.0\n",
            "135    Omanyte            13  162.0\n",
            "161    Noctowl            10  170.0\n",
            "234    Miltank            12   26.0\n",
            "295    Sableye            12   81.0\n"
          ]
        }
      ],
      "source": [
        "# low stock\n",
        "low_stock = df.loc[df[\"availability\"] < 20, [\"title\", \"availability\", \"price\"]]\n",
        "print(low_stock.head(10))"
      ]
    },
    {
      "cell_type": "markdown",
      "metadata": {
        "id": "vt9jgjjqI2ef"
      },
      "source": [
        "# **Statistical Summary**"
      ]
    },
    {
      "cell_type": "code",
      "execution_count": 24,
      "metadata": {
        "colab": {
          "base_uri": "https://localhost:8080/"
        },
        "id": "mgpc_vBbJANV",
        "outputId": "88247c76-6a1a-4ec9-c60a-961beacf21b3"
      },
      "outputs": [
        {
          "name": "stdout",
          "output_type": "stream",
          "text": [
            "Mean: 110.94834437086092\n",
            "Median: 111.0\n",
            "Min: 25.0\n",
            "Max: 200.0\n",
            "Std: 51.702359065439644\n"
          ]
        }
      ],
      "source": [
        "# <<Price>>\n",
        "mean_p = df[\"price\"].mean()\n",
        "median_p = df[\"price\"].median()\n",
        "min_p = df[\"price\"].min()\n",
        "max_p = df[\"price\"].max()\n",
        "std_p = df[\"price\"].std()\n",
        "\n",
        "print(\"Mean:\", mean_p)\n",
        "print(\"Median:\", median_p)\n",
        "print(\"Min:\", min_p)\n",
        "print(\"Max:\", max_p)\n",
        "print(\"Std:\", std_p)"
      ]
    },
    {
      "cell_type": "code",
      "execution_count": 25,
      "metadata": {
        "colab": {
          "base_uri": "https://localhost:8080/"
        },
        "id": "bWrq__liJI26",
        "outputId": "187e5190-9b52-418c-b2ed-98b4f1c373ec"
      },
      "outputs": [
        {
          "name": "stdout",
          "output_type": "stream",
          "text": [
            "Mean: 154.77880794701986\n",
            "Median: 151.0\n",
            "Min: 10\n",
            "Max: 300\n",
            "Std: 84.30365461592396\n"
          ]
        }
      ],
      "source": [
        "# <<Stock>>\n",
        "mean_s = df[\"availability\"].mean()\n",
        "median_s = df[\"availability\"].median()\n",
        "min_s = df[\"availability\"].min()\n",
        "max_s = df[\"availability\"].max()\n",
        "std_s = df[\"availability\"].std()\n",
        "\n",
        "print(\"Mean:\", mean_s)\n",
        "print(\"Median:\", median_s)\n",
        "print(\"Min:\", min_s)\n",
        "print(\"Max:\", max_s)\n",
        "print(\"Std:\", std_s)"
      ]
    },
    {
      "cell_type": "code",
      "execution_count": 26,
      "metadata": {
        "id": "q8bs87DJJPeS"
      },
      "outputs": [],
      "source": [
        "# Mode for tags and categories\n",
        "\n",
        "cat_mode = (df[\"categories\"].str.split(\",\").explode().str.strip().mode()[0])\n",
        "\n",
        "tag_mode = (df[\"tags\"].str.split(\",\").explode().str.strip().mode()[0])"
      ]
    },
    {
      "cell_type": "code",
      "execution_count": 27,
      "metadata": {
        "colab": {
          "base_uri": "https://localhost:8080/"
        },
        "id": "QhLCVmlJJdjP",
        "outputId": "e0bdde3e-9391-4a9c-867d-01b596d1d3d7"
      },
      "outputs": [
        {
          "name": "stdout",
          "output_type": "stream",
          "text": [
            "Most Common Category >> Pokemon\n",
            "Most Common Tagc>> Levitate\n"
          ]
        }
      ],
      "source": [
        "print(\"Most Common Category >>\", cat_mode)\n",
        "print(\"Most Common Tagc>>\", tag_mode)"
      ]
    },
    {
      "cell_type": "code",
      "execution_count": 28,
      "metadata": {
        "colab": {
          "base_uri": "https://localhost:8080/",
          "height": 112
        },
        "id": "l0ylbICANHcr",
        "outputId": "2393a882-0d3a-43a0-fd32-76be59a2a902"
      },
      "outputs": [
        {
          "data": {
            "text/html": [
              "<div>\n",
              "<style scoped>\n",
              "    .dataframe tbody tr th:only-of-type {\n",
              "        vertical-align: middle;\n",
              "    }\n",
              "\n",
              "    .dataframe tbody tr th {\n",
              "        vertical-align: top;\n",
              "    }\n",
              "\n",
              "    .dataframe thead th {\n",
              "        text-align: right;\n",
              "    }\n",
              "</style>\n",
              "<table border=\"1\" class=\"dataframe\">\n",
              "  <thead>\n",
              "    <tr style=\"text-align: right;\">\n",
              "      <th></th>\n",
              "      <th>price</th>\n",
              "      <th>availability</th>\n",
              "    </tr>\n",
              "  </thead>\n",
              "  <tbody>\n",
              "    <tr>\n",
              "      <th>price</th>\n",
              "      <td>1.000000</td>\n",
              "      <td>-0.034093</td>\n",
              "    </tr>\n",
              "    <tr>\n",
              "      <th>availability</th>\n",
              "      <td>-0.034093</td>\n",
              "      <td>1.000000</td>\n",
              "    </tr>\n",
              "  </tbody>\n",
              "</table>\n",
              "</div>"
            ],
            "text/plain": [
              "                 price  availability\n",
              "price         1.000000     -0.034093\n",
              "availability -0.034093      1.000000"
            ]
          },
          "execution_count": 28,
          "metadata": {},
          "output_type": "execute_result"
        }
      ],
      "source": [
        "df[[\"price\", \"availability\"]].corr()"
      ]
    },
    {
      "cell_type": "markdown",
      "metadata": {
        "id": "WtxDHyTmFecx"
      },
      "source": [
        "# **Filtering**"
      ]
    },
    {
      "cell_type": "code",
      "execution_count": 29,
      "metadata": {
        "colab": {
          "base_uri": "https://localhost:8080/",
          "height": 423
        },
        "id": "Pv2zVfCQFhw7",
        "outputId": "c1a68a39-5b23-4bd9-cbd4-e105de53fe9a"
      },
      "outputs": [
        {
          "data": {
            "text/html": [
              "<div>\n",
              "<style scoped>\n",
              "    .dataframe tbody tr th:only-of-type {\n",
              "        vertical-align: middle;\n",
              "    }\n",
              "\n",
              "    .dataframe tbody tr th {\n",
              "        vertical-align: top;\n",
              "    }\n",
              "\n",
              "    .dataframe thead th {\n",
              "        text-align: right;\n",
              "    }\n",
              "</style>\n",
              "<table border=\"1\" class=\"dataframe\">\n",
              "  <thead>\n",
              "    <tr style=\"text-align: right;\">\n",
              "      <th></th>\n",
              "      <th>title</th>\n",
              "      <th>price</th>\n",
              "    </tr>\n",
              "  </thead>\n",
              "  <tbody>\n",
              "    <tr>\n",
              "      <th>452</th>\n",
              "      <td>Magmortar</td>\n",
              "      <td>200.0</td>\n",
              "    </tr>\n",
              "    <tr>\n",
              "      <th>50</th>\n",
              "      <td>Persian</td>\n",
              "      <td>200.0</td>\n",
              "    </tr>\n",
              "    <tr>\n",
              "      <th>322</th>\n",
              "      <td>Vibrava</td>\n",
              "      <td>200.0</td>\n",
              "    </tr>\n",
              "    <tr>\n",
              "      <th>464</th>\n",
              "      <td>Uxie</td>\n",
              "      <td>200.0</td>\n",
              "    </tr>\n",
              "    <tr>\n",
              "      <th>164</th>\n",
              "      <td>Spinarak</td>\n",
              "      <td>199.0</td>\n",
              "    </tr>\n",
              "    <tr>\n",
              "      <th>...</th>\n",
              "      <td>...</td>\n",
              "      <td>...</td>\n",
              "    </tr>\n",
              "    <tr>\n",
              "      <th>206</th>\n",
              "      <td>Scizor</td>\n",
              "      <td>172.0</td>\n",
              "    </tr>\n",
              "    <tr>\n",
              "      <th>499</th>\n",
              "      <td>Munna</td>\n",
              "      <td>172.0</td>\n",
              "    </tr>\n",
              "    <tr>\n",
              "      <th>666</th>\n",
              "      <td>Carbink</td>\n",
              "      <td>171.0</td>\n",
              "    </tr>\n",
              "    <tr>\n",
              "      <th>395</th>\n",
              "      <td>Budew</td>\n",
              "      <td>171.0</td>\n",
              "    </tr>\n",
              "    <tr>\n",
              "      <th>540</th>\n",
              "      <td>Yamask</td>\n",
              "      <td>171.0</td>\n",
              "    </tr>\n",
              "  </tbody>\n",
              "</table>\n",
              "<p>121 rows × 2 columns</p>\n",
              "</div>"
            ],
            "text/plain": [
              "         title  price\n",
              "452  Magmortar  200.0\n",
              "50     Persian  200.0\n",
              "322    Vibrava  200.0\n",
              "464       Uxie  200.0\n",
              "164   Spinarak  199.0\n",
              "..         ...    ...\n",
              "206     Scizor  172.0\n",
              "499      Munna  172.0\n",
              "666    Carbink  171.0\n",
              "395      Budew  171.0\n",
              "540     Yamask  171.0\n",
              "\n",
              "[121 rows x 2 columns]"
            ]
          },
          "execution_count": 29,
          "metadata": {},
          "output_type": "execute_result"
        }
      ],
      "source": [
        "# Products with price > 170 arranged from bigger to samller\n",
        "expensive = df.loc[df[\"price\"] > 170, [\"title\", \"price\"]].sort_values(\"price\", ascending=False)\n",
        "expensive"
      ]
    },
    {
      "cell_type": "code",
      "execution_count": 30,
      "metadata": {
        "colab": {
          "base_uri": "https://localhost:8080/",
          "height": 112
        },
        "id": "s1daXLnyFlBZ",
        "outputId": "4f7ab94b-8c91-4486-a0d9-2f5638180263"
      },
      "outputs": [
        {
          "data": {
            "text/html": [
              "<div>\n",
              "<style scoped>\n",
              "    .dataframe tbody tr th:only-of-type {\n",
              "        vertical-align: middle;\n",
              "    }\n",
              "\n",
              "    .dataframe tbody tr th {\n",
              "        vertical-align: top;\n",
              "    }\n",
              "\n",
              "    .dataframe thead th {\n",
              "        text-align: right;\n",
              "    }\n",
              "</style>\n",
              "<table border=\"1\" class=\"dataframe\">\n",
              "  <thead>\n",
              "    <tr style=\"text-align: right;\">\n",
              "      <th></th>\n",
              "      <th>title</th>\n",
              "      <th>price</th>\n",
              "    </tr>\n",
              "  </thead>\n",
              "  <tbody>\n",
              "    <tr>\n",
              "      <th>452</th>\n",
              "      <td>Magmortar</td>\n",
              "      <td>200.0</td>\n",
              "    </tr>\n",
              "    <tr>\n",
              "      <th>730</th>\n",
              "      <td>Turtonator</td>\n",
              "      <td>117.0</td>\n",
              "    </tr>\n",
              "  </tbody>\n",
              "</table>\n",
              "</div>"
            ],
            "text/plain": [
              "          title  price\n",
              "452   Magmortar  200.0\n",
              "730  Turtonator  117.0"
            ]
          },
          "execution_count": 30,
          "metadata": {},
          "output_type": "execute_result"
        }
      ],
      "source": [
        "# Items with category \"Blast\"\n",
        "seed_products = df[df[\"categories\"].str.contains(\"Blast\", na=False)]\n",
        "seed_products[[\"title\", \"price\"]]"
      ]
    },
    {
      "cell_type": "code",
      "execution_count": 31,
      "metadata": {
        "colab": {
          "base_uri": "https://localhost:8080/",
          "height": 676
        },
        "id": "2q1S85QfKGky",
        "outputId": "9c9fd19e-a935-4f9a-bb69-709d82763daf"
      },
      "outputs": [
        {
          "data": {
            "text/html": [
              "<div>\n",
              "<style scoped>\n",
              "    .dataframe tbody tr th:only-of-type {\n",
              "        vertical-align: middle;\n",
              "    }\n",
              "\n",
              "    .dataframe tbody tr th {\n",
              "        vertical-align: top;\n",
              "    }\n",
              "\n",
              "    .dataframe thead th {\n",
              "        text-align: right;\n",
              "    }\n",
              "</style>\n",
              "<table border=\"1\" class=\"dataframe\">\n",
              "  <thead>\n",
              "    <tr style=\"text-align: right;\">\n",
              "      <th></th>\n",
              "      <th>title</th>\n",
              "      <th>price</th>\n",
              "    </tr>\n",
              "  </thead>\n",
              "  <tbody>\n",
              "    <tr>\n",
              "      <th>0</th>\n",
              "      <td>Bulbasaur</td>\n",
              "      <td>63.0</td>\n",
              "    </tr>\n",
              "    <tr>\n",
              "      <th>1</th>\n",
              "      <td>Ivysaur</td>\n",
              "      <td>87.0</td>\n",
              "    </tr>\n",
              "    <tr>\n",
              "      <th>2</th>\n",
              "      <td>Venusaur</td>\n",
              "      <td>105.0</td>\n",
              "    </tr>\n",
              "    <tr>\n",
              "      <th>149</th>\n",
              "      <td>Chikorita</td>\n",
              "      <td>127.0</td>\n",
              "    </tr>\n",
              "    <tr>\n",
              "      <th>150</th>\n",
              "      <td>Bayleef</td>\n",
              "      <td>44.0</td>\n",
              "    </tr>\n",
              "    <tr>\n",
              "      <th>151</th>\n",
              "      <td>Meganium</td>\n",
              "      <td>163.0</td>\n",
              "    </tr>\n",
              "    <tr>\n",
              "      <th>245</th>\n",
              "      <td>Treecko</td>\n",
              "      <td>96.0</td>\n",
              "    </tr>\n",
              "    <tr>\n",
              "      <th>246</th>\n",
              "      <td>Grovyle</td>\n",
              "      <td>190.0</td>\n",
              "    </tr>\n",
              "    <tr>\n",
              "      <th>247</th>\n",
              "      <td>Sceptile</td>\n",
              "      <td>37.0</td>\n",
              "    </tr>\n",
              "    <tr>\n",
              "      <th>377</th>\n",
              "      <td>Turtwig</td>\n",
              "      <td>101.0</td>\n",
              "    </tr>\n",
              "    <tr>\n",
              "      <th>378</th>\n",
              "      <td>Grotle</td>\n",
              "      <td>154.0</td>\n",
              "    </tr>\n",
              "    <tr>\n",
              "      <th>379</th>\n",
              "      <td>Torterra</td>\n",
              "      <td>87.0</td>\n",
              "    </tr>\n",
              "    <tr>\n",
              "      <th>477</th>\n",
              "      <td>Snivy</td>\n",
              "      <td>102.0</td>\n",
              "    </tr>\n",
              "    <tr>\n",
              "      <th>478</th>\n",
              "      <td>Servine</td>\n",
              "      <td>154.0</td>\n",
              "    </tr>\n",
              "    <tr>\n",
              "      <th>479</th>\n",
              "      <td>Serperior</td>\n",
              "      <td>88.0</td>\n",
              "    </tr>\n",
              "    <tr>\n",
              "      <th>617</th>\n",
              "      <td>Chespin</td>\n",
              "      <td>185.0</td>\n",
              "    </tr>\n",
              "    <tr>\n",
              "      <th>618</th>\n",
              "      <td>Quilladin</td>\n",
              "      <td>161.0</td>\n",
              "    </tr>\n",
              "    <tr>\n",
              "      <th>619</th>\n",
              "      <td>Chesnaught</td>\n",
              "      <td>96.0</td>\n",
              "    </tr>\n",
              "    <tr>\n",
              "      <th>682</th>\n",
              "      <td>Dartrix</td>\n",
              "      <td>169.0</td>\n",
              "    </tr>\n",
              "    <tr>\n",
              "      <th>683</th>\n",
              "      <td>Decidueye</td>\n",
              "      <td>106.0</td>\n",
              "    </tr>\n",
              "  </tbody>\n",
              "</table>\n",
              "</div>"
            ],
            "text/plain": [
              "          title  price\n",
              "0     Bulbasaur   63.0\n",
              "1       Ivysaur   87.0\n",
              "2      Venusaur  105.0\n",
              "149   Chikorita  127.0\n",
              "150     Bayleef   44.0\n",
              "151    Meganium  163.0\n",
              "245     Treecko   96.0\n",
              "246     Grovyle  190.0\n",
              "247    Sceptile   37.0\n",
              "377     Turtwig  101.0\n",
              "378      Grotle  154.0\n",
              "379    Torterra   87.0\n",
              "477       Snivy  102.0\n",
              "478     Servine  154.0\n",
              "479   Serperior   88.0\n",
              "617     Chespin  185.0\n",
              "618   Quilladin  161.0\n",
              "619  Chesnaught   96.0\n",
              "682     Dartrix  169.0\n",
              "683   Decidueye  106.0"
            ]
          },
          "execution_count": 31,
          "metadata": {},
          "output_type": "execute_result"
        }
      ],
      "source": [
        "# Items with tag \"Overgrow\"\n",
        "seed_products = df[df[\"tags\"].str.contains(\"Overgrow\", na=False)]\n",
        "seed_products[[\"title\", \"price\"]]"
      ]
    },
    {
      "cell_type": "code",
      "execution_count": 32,
      "metadata": {
        "colab": {
          "base_uri": "https://localhost:8080/",
          "height": 457
        },
        "id": "CTH0Sp2jJz3K",
        "outputId": "777e38d9-dbe8-4440-f0d0-4d809c0bb80d"
      },
      "outputs": [
        {
          "data": {
            "text/html": [
              "<div>\n",
              "<style scoped>\n",
              "    .dataframe tbody tr th:only-of-type {\n",
              "        vertical-align: middle;\n",
              "    }\n",
              "\n",
              "    .dataframe tbody tr th {\n",
              "        vertical-align: top;\n",
              "    }\n",
              "\n",
              "    .dataframe thead th {\n",
              "        text-align: right;\n",
              "    }\n",
              "</style>\n",
              "<table border=\"1\" class=\"dataframe\">\n",
              "  <thead>\n",
              "    <tr style=\"text-align: right;\">\n",
              "      <th></th>\n",
              "      <th>title</th>\n",
              "      <th>availability</th>\n",
              "    </tr>\n",
              "  </thead>\n",
              "  <tbody>\n",
              "    <tr>\n",
              "      <th>56</th>\n",
              "      <td>Arcanine</td>\n",
              "      <td>14</td>\n",
              "    </tr>\n",
              "    <tr>\n",
              "      <th>64</th>\n",
              "      <td>Machoke</td>\n",
              "      <td>10</td>\n",
              "    </tr>\n",
              "    <tr>\n",
              "      <th>135</th>\n",
              "      <td>Omanyte</td>\n",
              "      <td>13</td>\n",
              "    </tr>\n",
              "    <tr>\n",
              "      <th>161</th>\n",
              "      <td>Noctowl</td>\n",
              "      <td>10</td>\n",
              "    </tr>\n",
              "    <tr>\n",
              "      <th>234</th>\n",
              "      <td>Miltank</td>\n",
              "      <td>12</td>\n",
              "    </tr>\n",
              "    <tr>\n",
              "      <th>295</th>\n",
              "      <td>Sableye</td>\n",
              "      <td>12</td>\n",
              "    </tr>\n",
              "    <tr>\n",
              "      <th>300</th>\n",
              "      <td>Meditite</td>\n",
              "      <td>11</td>\n",
              "    </tr>\n",
              "    <tr>\n",
              "      <th>353</th>\n",
              "      <td>Glalie</td>\n",
              "      <td>14</td>\n",
              "    </tr>\n",
              "    <tr>\n",
              "      <th>360</th>\n",
              "      <td>Relicanth</td>\n",
              "      <td>14</td>\n",
              "    </tr>\n",
              "    <tr>\n",
              "      <th>400</th>\n",
              "      <td>Bastiodon</td>\n",
              "      <td>14</td>\n",
              "    </tr>\n",
              "    <tr>\n",
              "      <th>421</th>\n",
              "      <td>Stunky</td>\n",
              "      <td>12</td>\n",
              "    </tr>\n",
              "    <tr>\n",
              "      <th>543</th>\n",
              "      <td>Carracosta</td>\n",
              "      <td>11</td>\n",
              "    </tr>\n",
              "    <tr>\n",
              "      <th>724</th>\n",
              "      <td>Golisopod</td>\n",
              "      <td>10</td>\n",
              "    </tr>\n",
              "  </tbody>\n",
              "</table>\n",
              "</div>"
            ],
            "text/plain": [
              "          title  availability\n",
              "56     Arcanine            14\n",
              "64      Machoke            10\n",
              "135     Omanyte            13\n",
              "161     Noctowl            10\n",
              "234     Miltank            12\n",
              "295     Sableye            12\n",
              "300    Meditite            11\n",
              "353      Glalie            14\n",
              "360   Relicanth            14\n",
              "400   Bastiodon            14\n",
              "421      Stunky            12\n",
              "543  Carracosta            11\n",
              "724   Golisopod            10"
            ]
          },
          "execution_count": 32,
          "metadata": {},
          "output_type": "execute_result"
        }
      ],
      "source": [
        "# Items with low stock (< 15)\n",
        "low_stock = df[df[\"availability\"] < 15]\n",
        "low_stock[[\"title\", \"availability\"]]"
      ]
    },
    {
      "cell_type": "markdown",
      "metadata": {
        "id": "nSBeqLb_EkM-"
      },
      "source": [
        "# **Visualization**"
      ]
    },
    {
      "cell_type": "code",
      "execution_count": 33,
      "metadata": {
        "colab": {
          "base_uri": "https://localhost:8080/",
          "height": 206
        },
        "id": "-LBewzFDGTnB",
        "outputId": "b09d9a8a-b700-491f-8bf6-ff83c866763a"
      },
      "outputs": [
        {
          "data": {
            "text/html": [
              "<div>\n",
              "<style scoped>\n",
              "    .dataframe tbody tr th:only-of-type {\n",
              "        vertical-align: middle;\n",
              "    }\n",
              "\n",
              "    .dataframe tbody tr th {\n",
              "        vertical-align: top;\n",
              "    }\n",
              "\n",
              "    .dataframe thead th {\n",
              "        text-align: right;\n",
              "    }\n",
              "</style>\n",
              "<table border=\"1\" class=\"dataframe\">\n",
              "  <thead>\n",
              "    <tr style=\"text-align: right;\">\n",
              "      <th></th>\n",
              "      <th>category</th>\n",
              "      <th>count</th>\n",
              "    </tr>\n",
              "  </thead>\n",
              "  <tbody>\n",
              "    <tr>\n",
              "      <th>0</th>\n",
              "      <td>Pokemon</td>\n",
              "      <td>755</td>\n",
              "    </tr>\n",
              "    <tr>\n",
              "      <th>1</th>\n",
              "      <td>Dragon</td>\n",
              "      <td>8</td>\n",
              "    </tr>\n",
              "    <tr>\n",
              "      <th>2</th>\n",
              "      <td>Mouse</td>\n",
              "      <td>6</td>\n",
              "    </tr>\n",
              "    <tr>\n",
              "      <th>3</th>\n",
              "      <td>Flame</td>\n",
              "      <td>5</td>\n",
              "    </tr>\n",
              "    <tr>\n",
              "      <th>4</th>\n",
              "      <td>Mushroom</td>\n",
              "      <td>5</td>\n",
              "    </tr>\n",
              "  </tbody>\n",
              "</table>\n",
              "</div>"
            ],
            "text/plain": [
              "   category  count\n",
              "0   Pokemon    755\n",
              "1    Dragon      8\n",
              "2     Mouse      6\n",
              "3     Flame      5\n",
              "4  Mushroom      5"
            ]
          },
          "execution_count": 33,
          "metadata": {},
          "output_type": "execute_result"
        }
      ],
      "source": [
        "# Count all categories individually\n",
        "cat_counts = (\n",
        "    df[\"categories\"].str.split(\",\").explode()\n",
        "    .str.strip()             # remove spaces\n",
        "    .value_counts()          # count each unique category\n",
        "    .reset_index()\n",
        ")\n",
        "\n",
        "cat_counts.columns = [\"category\", \"count\"]\n",
        "\n",
        "#  top 5 categories\n",
        "cat_counts.head(5)"
      ]
    },
    {
      "cell_type": "code",
      "execution_count": 34,
      "metadata": {
        "colab": {
          "base_uri": "https://localhost:8080/",
          "height": 542
        },
        "id": "t5w7SGPrGV4T",
        "outputId": "b312ee73-24f4-4d93-c7ef-e17c7a57dd2f"
      },
      "outputs": [
        {
          "data": {
            "application/vnd.plotly.v1+json": {
              "config": {
                "plotlyServerURL": "https://plot.ly"
              },
              "data": [
                {
                  "hovertemplate": "category=%{x}<br>count=%{y}<extra></extra>",
                  "legendgroup": "",
                  "marker": {
                    "color": "#636efa",
                    "pattern": {
                      "shape": ""
                    }
                  },
                  "name": "",
                  "orientation": "v",
                  "showlegend": false,
                  "textposition": "auto",
                  "type": "bar",
                  "x": [
                    "Pokemon",
                    "Dragon",
                    "Mouse",
                    "Flame",
                    "Mushroom"
                  ],
                  "xaxis": "x",
                  "y": {
                    "bdata": "8wIIAAYABQAFAA==",
                    "dtype": "i2"
                  },
                  "yaxis": "y"
                }
              ],
              "layout": {
                "barmode": "relative",
                "legend": {
                  "tracegroupgap": 0
                },
                "template": {
                  "data": {
                    "bar": [
                      {
                        "error_x": {
                          "color": "#2a3f5f"
                        },
                        "error_y": {
                          "color": "#2a3f5f"
                        },
                        "marker": {
                          "line": {
                            "color": "#E5ECF6",
                            "width": 0.5
                          },
                          "pattern": {
                            "fillmode": "overlay",
                            "size": 10,
                            "solidity": 0.2
                          }
                        },
                        "type": "bar"
                      }
                    ],
                    "barpolar": [
                      {
                        "marker": {
                          "line": {
                            "color": "#E5ECF6",
                            "width": 0.5
                          },
                          "pattern": {
                            "fillmode": "overlay",
                            "size": 10,
                            "solidity": 0.2
                          }
                        },
                        "type": "barpolar"
                      }
                    ],
                    "carpet": [
                      {
                        "aaxis": {
                          "endlinecolor": "#2a3f5f",
                          "gridcolor": "white",
                          "linecolor": "white",
                          "minorgridcolor": "white",
                          "startlinecolor": "#2a3f5f"
                        },
                        "baxis": {
                          "endlinecolor": "#2a3f5f",
                          "gridcolor": "white",
                          "linecolor": "white",
                          "minorgridcolor": "white",
                          "startlinecolor": "#2a3f5f"
                        },
                        "type": "carpet"
                      }
                    ],
                    "choropleth": [
                      {
                        "colorbar": {
                          "outlinewidth": 0,
                          "ticks": ""
                        },
                        "type": "choropleth"
                      }
                    ],
                    "contour": [
                      {
                        "colorbar": {
                          "outlinewidth": 0,
                          "ticks": ""
                        },
                        "colorscale": [
                          [
                            0,
                            "#0d0887"
                          ],
                          [
                            0.1111111111111111,
                            "#46039f"
                          ],
                          [
                            0.2222222222222222,
                            "#7201a8"
                          ],
                          [
                            0.3333333333333333,
                            "#9c179e"
                          ],
                          [
                            0.4444444444444444,
                            "#bd3786"
                          ],
                          [
                            0.5555555555555556,
                            "#d8576b"
                          ],
                          [
                            0.6666666666666666,
                            "#ed7953"
                          ],
                          [
                            0.7777777777777778,
                            "#fb9f3a"
                          ],
                          [
                            0.8888888888888888,
                            "#fdca26"
                          ],
                          [
                            1,
                            "#f0f921"
                          ]
                        ],
                        "type": "contour"
                      }
                    ],
                    "contourcarpet": [
                      {
                        "colorbar": {
                          "outlinewidth": 0,
                          "ticks": ""
                        },
                        "type": "contourcarpet"
                      }
                    ],
                    "heatmap": [
                      {
                        "colorbar": {
                          "outlinewidth": 0,
                          "ticks": ""
                        },
                        "colorscale": [
                          [
                            0,
                            "#0d0887"
                          ],
                          [
                            0.1111111111111111,
                            "#46039f"
                          ],
                          [
                            0.2222222222222222,
                            "#7201a8"
                          ],
                          [
                            0.3333333333333333,
                            "#9c179e"
                          ],
                          [
                            0.4444444444444444,
                            "#bd3786"
                          ],
                          [
                            0.5555555555555556,
                            "#d8576b"
                          ],
                          [
                            0.6666666666666666,
                            "#ed7953"
                          ],
                          [
                            0.7777777777777778,
                            "#fb9f3a"
                          ],
                          [
                            0.8888888888888888,
                            "#fdca26"
                          ],
                          [
                            1,
                            "#f0f921"
                          ]
                        ],
                        "type": "heatmap"
                      }
                    ],
                    "histogram": [
                      {
                        "marker": {
                          "pattern": {
                            "fillmode": "overlay",
                            "size": 10,
                            "solidity": 0.2
                          }
                        },
                        "type": "histogram"
                      }
                    ],
                    "histogram2d": [
                      {
                        "colorbar": {
                          "outlinewidth": 0,
                          "ticks": ""
                        },
                        "colorscale": [
                          [
                            0,
                            "#0d0887"
                          ],
                          [
                            0.1111111111111111,
                            "#46039f"
                          ],
                          [
                            0.2222222222222222,
                            "#7201a8"
                          ],
                          [
                            0.3333333333333333,
                            "#9c179e"
                          ],
                          [
                            0.4444444444444444,
                            "#bd3786"
                          ],
                          [
                            0.5555555555555556,
                            "#d8576b"
                          ],
                          [
                            0.6666666666666666,
                            "#ed7953"
                          ],
                          [
                            0.7777777777777778,
                            "#fb9f3a"
                          ],
                          [
                            0.8888888888888888,
                            "#fdca26"
                          ],
                          [
                            1,
                            "#f0f921"
                          ]
                        ],
                        "type": "histogram2d"
                      }
                    ],
                    "histogram2dcontour": [
                      {
                        "colorbar": {
                          "outlinewidth": 0,
                          "ticks": ""
                        },
                        "colorscale": [
                          [
                            0,
                            "#0d0887"
                          ],
                          [
                            0.1111111111111111,
                            "#46039f"
                          ],
                          [
                            0.2222222222222222,
                            "#7201a8"
                          ],
                          [
                            0.3333333333333333,
                            "#9c179e"
                          ],
                          [
                            0.4444444444444444,
                            "#bd3786"
                          ],
                          [
                            0.5555555555555556,
                            "#d8576b"
                          ],
                          [
                            0.6666666666666666,
                            "#ed7953"
                          ],
                          [
                            0.7777777777777778,
                            "#fb9f3a"
                          ],
                          [
                            0.8888888888888888,
                            "#fdca26"
                          ],
                          [
                            1,
                            "#f0f921"
                          ]
                        ],
                        "type": "histogram2dcontour"
                      }
                    ],
                    "mesh3d": [
                      {
                        "colorbar": {
                          "outlinewidth": 0,
                          "ticks": ""
                        },
                        "type": "mesh3d"
                      }
                    ],
                    "parcoords": [
                      {
                        "line": {
                          "colorbar": {
                            "outlinewidth": 0,
                            "ticks": ""
                          }
                        },
                        "type": "parcoords"
                      }
                    ],
                    "pie": [
                      {
                        "automargin": true,
                        "type": "pie"
                      }
                    ],
                    "scatter": [
                      {
                        "fillpattern": {
                          "fillmode": "overlay",
                          "size": 10,
                          "solidity": 0.2
                        },
                        "type": "scatter"
                      }
                    ],
                    "scatter3d": [
                      {
                        "line": {
                          "colorbar": {
                            "outlinewidth": 0,
                            "ticks": ""
                          }
                        },
                        "marker": {
                          "colorbar": {
                            "outlinewidth": 0,
                            "ticks": ""
                          }
                        },
                        "type": "scatter3d"
                      }
                    ],
                    "scattercarpet": [
                      {
                        "marker": {
                          "colorbar": {
                            "outlinewidth": 0,
                            "ticks": ""
                          }
                        },
                        "type": "scattercarpet"
                      }
                    ],
                    "scattergeo": [
                      {
                        "marker": {
                          "colorbar": {
                            "outlinewidth": 0,
                            "ticks": ""
                          }
                        },
                        "type": "scattergeo"
                      }
                    ],
                    "scattergl": [
                      {
                        "marker": {
                          "colorbar": {
                            "outlinewidth": 0,
                            "ticks": ""
                          }
                        },
                        "type": "scattergl"
                      }
                    ],
                    "scattermap": [
                      {
                        "marker": {
                          "colorbar": {
                            "outlinewidth": 0,
                            "ticks": ""
                          }
                        },
                        "type": "scattermap"
                      }
                    ],
                    "scattermapbox": [
                      {
                        "marker": {
                          "colorbar": {
                            "outlinewidth": 0,
                            "ticks": ""
                          }
                        },
                        "type": "scattermapbox"
                      }
                    ],
                    "scatterpolar": [
                      {
                        "marker": {
                          "colorbar": {
                            "outlinewidth": 0,
                            "ticks": ""
                          }
                        },
                        "type": "scatterpolar"
                      }
                    ],
                    "scatterpolargl": [
                      {
                        "marker": {
                          "colorbar": {
                            "outlinewidth": 0,
                            "ticks": ""
                          }
                        },
                        "type": "scatterpolargl"
                      }
                    ],
                    "scatterternary": [
                      {
                        "marker": {
                          "colorbar": {
                            "outlinewidth": 0,
                            "ticks": ""
                          }
                        },
                        "type": "scatterternary"
                      }
                    ],
                    "surface": [
                      {
                        "colorbar": {
                          "outlinewidth": 0,
                          "ticks": ""
                        },
                        "colorscale": [
                          [
                            0,
                            "#0d0887"
                          ],
                          [
                            0.1111111111111111,
                            "#46039f"
                          ],
                          [
                            0.2222222222222222,
                            "#7201a8"
                          ],
                          [
                            0.3333333333333333,
                            "#9c179e"
                          ],
                          [
                            0.4444444444444444,
                            "#bd3786"
                          ],
                          [
                            0.5555555555555556,
                            "#d8576b"
                          ],
                          [
                            0.6666666666666666,
                            "#ed7953"
                          ],
                          [
                            0.7777777777777778,
                            "#fb9f3a"
                          ],
                          [
                            0.8888888888888888,
                            "#fdca26"
                          ],
                          [
                            1,
                            "#f0f921"
                          ]
                        ],
                        "type": "surface"
                      }
                    ],
                    "table": [
                      {
                        "cells": {
                          "fill": {
                            "color": "#EBF0F8"
                          },
                          "line": {
                            "color": "white"
                          }
                        },
                        "header": {
                          "fill": {
                            "color": "#C8D4E3"
                          },
                          "line": {
                            "color": "white"
                          }
                        },
                        "type": "table"
                      }
                    ]
                  },
                  "layout": {
                    "annotationdefaults": {
                      "arrowcolor": "#2a3f5f",
                      "arrowhead": 0,
                      "arrowwidth": 1
                    },
                    "autotypenumbers": "strict",
                    "coloraxis": {
                      "colorbar": {
                        "outlinewidth": 0,
                        "ticks": ""
                      }
                    },
                    "colorscale": {
                      "diverging": [
                        [
                          0,
                          "#8e0152"
                        ],
                        [
                          0.1,
                          "#c51b7d"
                        ],
                        [
                          0.2,
                          "#de77ae"
                        ],
                        [
                          0.3,
                          "#f1b6da"
                        ],
                        [
                          0.4,
                          "#fde0ef"
                        ],
                        [
                          0.5,
                          "#f7f7f7"
                        ],
                        [
                          0.6,
                          "#e6f5d0"
                        ],
                        [
                          0.7,
                          "#b8e186"
                        ],
                        [
                          0.8,
                          "#7fbc41"
                        ],
                        [
                          0.9,
                          "#4d9221"
                        ],
                        [
                          1,
                          "#276419"
                        ]
                      ],
                      "sequential": [
                        [
                          0,
                          "#0d0887"
                        ],
                        [
                          0.1111111111111111,
                          "#46039f"
                        ],
                        [
                          0.2222222222222222,
                          "#7201a8"
                        ],
                        [
                          0.3333333333333333,
                          "#9c179e"
                        ],
                        [
                          0.4444444444444444,
                          "#bd3786"
                        ],
                        [
                          0.5555555555555556,
                          "#d8576b"
                        ],
                        [
                          0.6666666666666666,
                          "#ed7953"
                        ],
                        [
                          0.7777777777777778,
                          "#fb9f3a"
                        ],
                        [
                          0.8888888888888888,
                          "#fdca26"
                        ],
                        [
                          1,
                          "#f0f921"
                        ]
                      ],
                      "sequentialminus": [
                        [
                          0,
                          "#0d0887"
                        ],
                        [
                          0.1111111111111111,
                          "#46039f"
                        ],
                        [
                          0.2222222222222222,
                          "#7201a8"
                        ],
                        [
                          0.3333333333333333,
                          "#9c179e"
                        ],
                        [
                          0.4444444444444444,
                          "#bd3786"
                        ],
                        [
                          0.5555555555555556,
                          "#d8576b"
                        ],
                        [
                          0.6666666666666666,
                          "#ed7953"
                        ],
                        [
                          0.7777777777777778,
                          "#fb9f3a"
                        ],
                        [
                          0.8888888888888888,
                          "#fdca26"
                        ],
                        [
                          1,
                          "#f0f921"
                        ]
                      ]
                    },
                    "colorway": [
                      "#636efa",
                      "#EF553B",
                      "#00cc96",
                      "#ab63fa",
                      "#FFA15A",
                      "#19d3f3",
                      "#FF6692",
                      "#B6E880",
                      "#FF97FF",
                      "#FECB52"
                    ],
                    "font": {
                      "color": "#2a3f5f"
                    },
                    "geo": {
                      "bgcolor": "white",
                      "lakecolor": "white",
                      "landcolor": "#E5ECF6",
                      "showlakes": true,
                      "showland": true,
                      "subunitcolor": "white"
                    },
                    "hoverlabel": {
                      "align": "left"
                    },
                    "hovermode": "closest",
                    "mapbox": {
                      "style": "light"
                    },
                    "paper_bgcolor": "white",
                    "plot_bgcolor": "#E5ECF6",
                    "polar": {
                      "angularaxis": {
                        "gridcolor": "white",
                        "linecolor": "white",
                        "ticks": ""
                      },
                      "bgcolor": "#E5ECF6",
                      "radialaxis": {
                        "gridcolor": "white",
                        "linecolor": "white",
                        "ticks": ""
                      }
                    },
                    "scene": {
                      "xaxis": {
                        "backgroundcolor": "#E5ECF6",
                        "gridcolor": "white",
                        "gridwidth": 2,
                        "linecolor": "white",
                        "showbackground": true,
                        "ticks": "",
                        "zerolinecolor": "white"
                      },
                      "yaxis": {
                        "backgroundcolor": "#E5ECF6",
                        "gridcolor": "white",
                        "gridwidth": 2,
                        "linecolor": "white",
                        "showbackground": true,
                        "ticks": "",
                        "zerolinecolor": "white"
                      },
                      "zaxis": {
                        "backgroundcolor": "#E5ECF6",
                        "gridcolor": "white",
                        "gridwidth": 2,
                        "linecolor": "white",
                        "showbackground": true,
                        "ticks": "",
                        "zerolinecolor": "white"
                      }
                    },
                    "shapedefaults": {
                      "line": {
                        "color": "#2a3f5f"
                      }
                    },
                    "ternary": {
                      "aaxis": {
                        "gridcolor": "white",
                        "linecolor": "white",
                        "ticks": ""
                      },
                      "baxis": {
                        "gridcolor": "white",
                        "linecolor": "white",
                        "ticks": ""
                      },
                      "bgcolor": "#E5ECF6",
                      "caxis": {
                        "gridcolor": "white",
                        "linecolor": "white",
                        "ticks": ""
                      }
                    },
                    "title": {
                      "x": 0.05
                    },
                    "xaxis": {
                      "automargin": true,
                      "gridcolor": "white",
                      "linecolor": "white",
                      "ticks": "",
                      "title": {
                        "standoff": 15
                      },
                      "zerolinecolor": "white",
                      "zerolinewidth": 2
                    },
                    "yaxis": {
                      "automargin": true,
                      "gridcolor": "white",
                      "linecolor": "white",
                      "ticks": "",
                      "title": {
                        "standoff": 15
                      },
                      "zerolinecolor": "white",
                      "zerolinewidth": 2
                    }
                  }
                },
                "title": {
                  "text": "Top 5 Categories"
                },
                "xaxis": {
                  "anchor": "y",
                  "domain": [
                    0,
                    1
                  ],
                  "title": {
                    "text": "category"
                  }
                },
                "yaxis": {
                  "anchor": "x",
                  "domain": [
                    0,
                    1
                  ],
                  "title": {
                    "text": "count"
                  }
                }
              }
            }
          },
          "metadata": {},
          "output_type": "display_data"
        }
      ],
      "source": [
        "# plot top 5 categories\n",
        "fig = px.bar(cat_counts.head(5), x=\"category\", y=\"count\", title=\"Top 5 Categories\")\n",
        "fig.show()"
      ]
    },
    {
      "cell_type": "code",
      "execution_count": 35,
      "metadata": {
        "colab": {
          "base_uri": "https://localhost:8080/",
          "height": 206
        },
        "id": "9QpMhMWiGm_J",
        "outputId": "d545077a-45d2-4b43-bb89-c5f16a84b941"
      },
      "outputs": [
        {
          "data": {
            "text/html": [
              "<div>\n",
              "<style scoped>\n",
              "    .dataframe tbody tr th:only-of-type {\n",
              "        vertical-align: middle;\n",
              "    }\n",
              "\n",
              "    .dataframe tbody tr th {\n",
              "        vertical-align: top;\n",
              "    }\n",
              "\n",
              "    .dataframe thead th {\n",
              "        text-align: right;\n",
              "    }\n",
              "</style>\n",
              "<table border=\"1\" class=\"dataframe\">\n",
              "  <thead>\n",
              "    <tr style=\"text-align: right;\">\n",
              "      <th></th>\n",
              "      <th>tag</th>\n",
              "      <th>count</th>\n",
              "    </tr>\n",
              "  </thead>\n",
              "  <tbody>\n",
              "    <tr>\n",
              "      <th>0</th>\n",
              "      <td>Levitate</td>\n",
              "      <td>31</td>\n",
              "    </tr>\n",
              "    <tr>\n",
              "      <th>1</th>\n",
              "      <td>Keen Eye</td>\n",
              "      <td>29</td>\n",
              "    </tr>\n",
              "    <tr>\n",
              "      <th>2</th>\n",
              "      <td>Chlorophyll</td>\n",
              "      <td>27</td>\n",
              "    </tr>\n",
              "    <tr>\n",
              "      <th>3</th>\n",
              "      <td>Intimidate</td>\n",
              "      <td>21</td>\n",
              "    </tr>\n",
              "    <tr>\n",
              "      <th>4</th>\n",
              "      <td>Blaze</td>\n",
              "      <td>21</td>\n",
              "    </tr>\n",
              "  </tbody>\n",
              "</table>\n",
              "</div>"
            ],
            "text/plain": [
              "           tag  count\n",
              "0     Levitate     31\n",
              "1     Keen Eye     29\n",
              "2  Chlorophyll     27\n",
              "3   Intimidate     21\n",
              "4        Blaze     21"
            ]
          },
          "execution_count": 35,
          "metadata": {},
          "output_type": "execute_result"
        }
      ],
      "source": [
        "# Count all tags individually\n",
        "tags_counts = (df[\"tags\"].str.split(\",\").explode().str.strip().value_counts().reset_index())\n",
        "\n",
        "tags_counts.columns = [\"tag\", \"count\"]\n",
        "\n",
        "#  top 5 tag\n",
        "tags_counts.head(5)"
      ]
    },
    {
      "cell_type": "code",
      "execution_count": 36,
      "metadata": {
        "colab": {
          "base_uri": "https://localhost:8080/",
          "height": 542
        },
        "id": "DqLBVJ37G01H",
        "outputId": "3f96bf51-2b03-4614-d300-04a4f754c3aa"
      },
      "outputs": [
        {
          "data": {
            "application/vnd.plotly.v1+json": {
              "config": {
                "plotlyServerURL": "https://plot.ly"
              },
              "data": [
                {
                  "domain": {
                    "x": [
                      0,
                      1
                    ],
                    "y": [
                      0,
                      1
                    ]
                  },
                  "hovertemplate": "tag=%{label}<br>count=%{value}<extra></extra>",
                  "labels": [
                    "Levitate",
                    "Keen Eye",
                    "Chlorophyll",
                    "Intimidate",
                    "Blaze"
                  ],
                  "legendgroup": "",
                  "name": "",
                  "showlegend": true,
                  "type": "pie",
                  "values": {
                    "bdata": "Hx0bFRU=",
                    "dtype": "i1"
                  }
                }
              ],
              "layout": {
                "legend": {
                  "tracegroupgap": 0
                },
                "template": {
                  "data": {
                    "bar": [
                      {
                        "error_x": {
                          "color": "#2a3f5f"
                        },
                        "error_y": {
                          "color": "#2a3f5f"
                        },
                        "marker": {
                          "line": {
                            "color": "#E5ECF6",
                            "width": 0.5
                          },
                          "pattern": {
                            "fillmode": "overlay",
                            "size": 10,
                            "solidity": 0.2
                          }
                        },
                        "type": "bar"
                      }
                    ],
                    "barpolar": [
                      {
                        "marker": {
                          "line": {
                            "color": "#E5ECF6",
                            "width": 0.5
                          },
                          "pattern": {
                            "fillmode": "overlay",
                            "size": 10,
                            "solidity": 0.2
                          }
                        },
                        "type": "barpolar"
                      }
                    ],
                    "carpet": [
                      {
                        "aaxis": {
                          "endlinecolor": "#2a3f5f",
                          "gridcolor": "white",
                          "linecolor": "white",
                          "minorgridcolor": "white",
                          "startlinecolor": "#2a3f5f"
                        },
                        "baxis": {
                          "endlinecolor": "#2a3f5f",
                          "gridcolor": "white",
                          "linecolor": "white",
                          "minorgridcolor": "white",
                          "startlinecolor": "#2a3f5f"
                        },
                        "type": "carpet"
                      }
                    ],
                    "choropleth": [
                      {
                        "colorbar": {
                          "outlinewidth": 0,
                          "ticks": ""
                        },
                        "type": "choropleth"
                      }
                    ],
                    "contour": [
                      {
                        "colorbar": {
                          "outlinewidth": 0,
                          "ticks": ""
                        },
                        "colorscale": [
                          [
                            0,
                            "#0d0887"
                          ],
                          [
                            0.1111111111111111,
                            "#46039f"
                          ],
                          [
                            0.2222222222222222,
                            "#7201a8"
                          ],
                          [
                            0.3333333333333333,
                            "#9c179e"
                          ],
                          [
                            0.4444444444444444,
                            "#bd3786"
                          ],
                          [
                            0.5555555555555556,
                            "#d8576b"
                          ],
                          [
                            0.6666666666666666,
                            "#ed7953"
                          ],
                          [
                            0.7777777777777778,
                            "#fb9f3a"
                          ],
                          [
                            0.8888888888888888,
                            "#fdca26"
                          ],
                          [
                            1,
                            "#f0f921"
                          ]
                        ],
                        "type": "contour"
                      }
                    ],
                    "contourcarpet": [
                      {
                        "colorbar": {
                          "outlinewidth": 0,
                          "ticks": ""
                        },
                        "type": "contourcarpet"
                      }
                    ],
                    "heatmap": [
                      {
                        "colorbar": {
                          "outlinewidth": 0,
                          "ticks": ""
                        },
                        "colorscale": [
                          [
                            0,
                            "#0d0887"
                          ],
                          [
                            0.1111111111111111,
                            "#46039f"
                          ],
                          [
                            0.2222222222222222,
                            "#7201a8"
                          ],
                          [
                            0.3333333333333333,
                            "#9c179e"
                          ],
                          [
                            0.4444444444444444,
                            "#bd3786"
                          ],
                          [
                            0.5555555555555556,
                            "#d8576b"
                          ],
                          [
                            0.6666666666666666,
                            "#ed7953"
                          ],
                          [
                            0.7777777777777778,
                            "#fb9f3a"
                          ],
                          [
                            0.8888888888888888,
                            "#fdca26"
                          ],
                          [
                            1,
                            "#f0f921"
                          ]
                        ],
                        "type": "heatmap"
                      }
                    ],
                    "histogram": [
                      {
                        "marker": {
                          "pattern": {
                            "fillmode": "overlay",
                            "size": 10,
                            "solidity": 0.2
                          }
                        },
                        "type": "histogram"
                      }
                    ],
                    "histogram2d": [
                      {
                        "colorbar": {
                          "outlinewidth": 0,
                          "ticks": ""
                        },
                        "colorscale": [
                          [
                            0,
                            "#0d0887"
                          ],
                          [
                            0.1111111111111111,
                            "#46039f"
                          ],
                          [
                            0.2222222222222222,
                            "#7201a8"
                          ],
                          [
                            0.3333333333333333,
                            "#9c179e"
                          ],
                          [
                            0.4444444444444444,
                            "#bd3786"
                          ],
                          [
                            0.5555555555555556,
                            "#d8576b"
                          ],
                          [
                            0.6666666666666666,
                            "#ed7953"
                          ],
                          [
                            0.7777777777777778,
                            "#fb9f3a"
                          ],
                          [
                            0.8888888888888888,
                            "#fdca26"
                          ],
                          [
                            1,
                            "#f0f921"
                          ]
                        ],
                        "type": "histogram2d"
                      }
                    ],
                    "histogram2dcontour": [
                      {
                        "colorbar": {
                          "outlinewidth": 0,
                          "ticks": ""
                        },
                        "colorscale": [
                          [
                            0,
                            "#0d0887"
                          ],
                          [
                            0.1111111111111111,
                            "#46039f"
                          ],
                          [
                            0.2222222222222222,
                            "#7201a8"
                          ],
                          [
                            0.3333333333333333,
                            "#9c179e"
                          ],
                          [
                            0.4444444444444444,
                            "#bd3786"
                          ],
                          [
                            0.5555555555555556,
                            "#d8576b"
                          ],
                          [
                            0.6666666666666666,
                            "#ed7953"
                          ],
                          [
                            0.7777777777777778,
                            "#fb9f3a"
                          ],
                          [
                            0.8888888888888888,
                            "#fdca26"
                          ],
                          [
                            1,
                            "#f0f921"
                          ]
                        ],
                        "type": "histogram2dcontour"
                      }
                    ],
                    "mesh3d": [
                      {
                        "colorbar": {
                          "outlinewidth": 0,
                          "ticks": ""
                        },
                        "type": "mesh3d"
                      }
                    ],
                    "parcoords": [
                      {
                        "line": {
                          "colorbar": {
                            "outlinewidth": 0,
                            "ticks": ""
                          }
                        },
                        "type": "parcoords"
                      }
                    ],
                    "pie": [
                      {
                        "automargin": true,
                        "type": "pie"
                      }
                    ],
                    "scatter": [
                      {
                        "fillpattern": {
                          "fillmode": "overlay",
                          "size": 10,
                          "solidity": 0.2
                        },
                        "type": "scatter"
                      }
                    ],
                    "scatter3d": [
                      {
                        "line": {
                          "colorbar": {
                            "outlinewidth": 0,
                            "ticks": ""
                          }
                        },
                        "marker": {
                          "colorbar": {
                            "outlinewidth": 0,
                            "ticks": ""
                          }
                        },
                        "type": "scatter3d"
                      }
                    ],
                    "scattercarpet": [
                      {
                        "marker": {
                          "colorbar": {
                            "outlinewidth": 0,
                            "ticks": ""
                          }
                        },
                        "type": "scattercarpet"
                      }
                    ],
                    "scattergeo": [
                      {
                        "marker": {
                          "colorbar": {
                            "outlinewidth": 0,
                            "ticks": ""
                          }
                        },
                        "type": "scattergeo"
                      }
                    ],
                    "scattergl": [
                      {
                        "marker": {
                          "colorbar": {
                            "outlinewidth": 0,
                            "ticks": ""
                          }
                        },
                        "type": "scattergl"
                      }
                    ],
                    "scattermap": [
                      {
                        "marker": {
                          "colorbar": {
                            "outlinewidth": 0,
                            "ticks": ""
                          }
                        },
                        "type": "scattermap"
                      }
                    ],
                    "scattermapbox": [
                      {
                        "marker": {
                          "colorbar": {
                            "outlinewidth": 0,
                            "ticks": ""
                          }
                        },
                        "type": "scattermapbox"
                      }
                    ],
                    "scatterpolar": [
                      {
                        "marker": {
                          "colorbar": {
                            "outlinewidth": 0,
                            "ticks": ""
                          }
                        },
                        "type": "scatterpolar"
                      }
                    ],
                    "scatterpolargl": [
                      {
                        "marker": {
                          "colorbar": {
                            "outlinewidth": 0,
                            "ticks": ""
                          }
                        },
                        "type": "scatterpolargl"
                      }
                    ],
                    "scatterternary": [
                      {
                        "marker": {
                          "colorbar": {
                            "outlinewidth": 0,
                            "ticks": ""
                          }
                        },
                        "type": "scatterternary"
                      }
                    ],
                    "surface": [
                      {
                        "colorbar": {
                          "outlinewidth": 0,
                          "ticks": ""
                        },
                        "colorscale": [
                          [
                            0,
                            "#0d0887"
                          ],
                          [
                            0.1111111111111111,
                            "#46039f"
                          ],
                          [
                            0.2222222222222222,
                            "#7201a8"
                          ],
                          [
                            0.3333333333333333,
                            "#9c179e"
                          ],
                          [
                            0.4444444444444444,
                            "#bd3786"
                          ],
                          [
                            0.5555555555555556,
                            "#d8576b"
                          ],
                          [
                            0.6666666666666666,
                            "#ed7953"
                          ],
                          [
                            0.7777777777777778,
                            "#fb9f3a"
                          ],
                          [
                            0.8888888888888888,
                            "#fdca26"
                          ],
                          [
                            1,
                            "#f0f921"
                          ]
                        ],
                        "type": "surface"
                      }
                    ],
                    "table": [
                      {
                        "cells": {
                          "fill": {
                            "color": "#EBF0F8"
                          },
                          "line": {
                            "color": "white"
                          }
                        },
                        "header": {
                          "fill": {
                            "color": "#C8D4E3"
                          },
                          "line": {
                            "color": "white"
                          }
                        },
                        "type": "table"
                      }
                    ]
                  },
                  "layout": {
                    "annotationdefaults": {
                      "arrowcolor": "#2a3f5f",
                      "arrowhead": 0,
                      "arrowwidth": 1
                    },
                    "autotypenumbers": "strict",
                    "coloraxis": {
                      "colorbar": {
                        "outlinewidth": 0,
                        "ticks": ""
                      }
                    },
                    "colorscale": {
                      "diverging": [
                        [
                          0,
                          "#8e0152"
                        ],
                        [
                          0.1,
                          "#c51b7d"
                        ],
                        [
                          0.2,
                          "#de77ae"
                        ],
                        [
                          0.3,
                          "#f1b6da"
                        ],
                        [
                          0.4,
                          "#fde0ef"
                        ],
                        [
                          0.5,
                          "#f7f7f7"
                        ],
                        [
                          0.6,
                          "#e6f5d0"
                        ],
                        [
                          0.7,
                          "#b8e186"
                        ],
                        [
                          0.8,
                          "#7fbc41"
                        ],
                        [
                          0.9,
                          "#4d9221"
                        ],
                        [
                          1,
                          "#276419"
                        ]
                      ],
                      "sequential": [
                        [
                          0,
                          "#0d0887"
                        ],
                        [
                          0.1111111111111111,
                          "#46039f"
                        ],
                        [
                          0.2222222222222222,
                          "#7201a8"
                        ],
                        [
                          0.3333333333333333,
                          "#9c179e"
                        ],
                        [
                          0.4444444444444444,
                          "#bd3786"
                        ],
                        [
                          0.5555555555555556,
                          "#d8576b"
                        ],
                        [
                          0.6666666666666666,
                          "#ed7953"
                        ],
                        [
                          0.7777777777777778,
                          "#fb9f3a"
                        ],
                        [
                          0.8888888888888888,
                          "#fdca26"
                        ],
                        [
                          1,
                          "#f0f921"
                        ]
                      ],
                      "sequentialminus": [
                        [
                          0,
                          "#0d0887"
                        ],
                        [
                          0.1111111111111111,
                          "#46039f"
                        ],
                        [
                          0.2222222222222222,
                          "#7201a8"
                        ],
                        [
                          0.3333333333333333,
                          "#9c179e"
                        ],
                        [
                          0.4444444444444444,
                          "#bd3786"
                        ],
                        [
                          0.5555555555555556,
                          "#d8576b"
                        ],
                        [
                          0.6666666666666666,
                          "#ed7953"
                        ],
                        [
                          0.7777777777777778,
                          "#fb9f3a"
                        ],
                        [
                          0.8888888888888888,
                          "#fdca26"
                        ],
                        [
                          1,
                          "#f0f921"
                        ]
                      ]
                    },
                    "colorway": [
                      "#636efa",
                      "#EF553B",
                      "#00cc96",
                      "#ab63fa",
                      "#FFA15A",
                      "#19d3f3",
                      "#FF6692",
                      "#B6E880",
                      "#FF97FF",
                      "#FECB52"
                    ],
                    "font": {
                      "color": "#2a3f5f"
                    },
                    "geo": {
                      "bgcolor": "white",
                      "lakecolor": "white",
                      "landcolor": "#E5ECF6",
                      "showlakes": true,
                      "showland": true,
                      "subunitcolor": "white"
                    },
                    "hoverlabel": {
                      "align": "left"
                    },
                    "hovermode": "closest",
                    "mapbox": {
                      "style": "light"
                    },
                    "paper_bgcolor": "white",
                    "plot_bgcolor": "#E5ECF6",
                    "polar": {
                      "angularaxis": {
                        "gridcolor": "white",
                        "linecolor": "white",
                        "ticks": ""
                      },
                      "bgcolor": "#E5ECF6",
                      "radialaxis": {
                        "gridcolor": "white",
                        "linecolor": "white",
                        "ticks": ""
                      }
                    },
                    "scene": {
                      "xaxis": {
                        "backgroundcolor": "#E5ECF6",
                        "gridcolor": "white",
                        "gridwidth": 2,
                        "linecolor": "white",
                        "showbackground": true,
                        "ticks": "",
                        "zerolinecolor": "white"
                      },
                      "yaxis": {
                        "backgroundcolor": "#E5ECF6",
                        "gridcolor": "white",
                        "gridwidth": 2,
                        "linecolor": "white",
                        "showbackground": true,
                        "ticks": "",
                        "zerolinecolor": "white"
                      },
                      "zaxis": {
                        "backgroundcolor": "#E5ECF6",
                        "gridcolor": "white",
                        "gridwidth": 2,
                        "linecolor": "white",
                        "showbackground": true,
                        "ticks": "",
                        "zerolinecolor": "white"
                      }
                    },
                    "shapedefaults": {
                      "line": {
                        "color": "#2a3f5f"
                      }
                    },
                    "ternary": {
                      "aaxis": {
                        "gridcolor": "white",
                        "linecolor": "white",
                        "ticks": ""
                      },
                      "baxis": {
                        "gridcolor": "white",
                        "linecolor": "white",
                        "ticks": ""
                      },
                      "bgcolor": "#E5ECF6",
                      "caxis": {
                        "gridcolor": "white",
                        "linecolor": "white",
                        "ticks": ""
                      }
                    },
                    "title": {
                      "x": 0.05
                    },
                    "xaxis": {
                      "automargin": true,
                      "gridcolor": "white",
                      "linecolor": "white",
                      "ticks": "",
                      "title": {
                        "standoff": 15
                      },
                      "zerolinecolor": "white",
                      "zerolinewidth": 2
                    },
                    "yaxis": {
                      "automargin": true,
                      "gridcolor": "white",
                      "linecolor": "white",
                      "ticks": "",
                      "title": {
                        "standoff": 15
                      },
                      "zerolinecolor": "white",
                      "zerolinewidth": 2
                    }
                  }
                },
                "title": {
                  "text": "Top 5 Tags"
                }
              }
            }
          },
          "metadata": {},
          "output_type": "display_data"
        }
      ],
      "source": [
        "# plot top 5 tags\n",
        "fig = px.pie(tags_counts.head(5), names=\"tag\", values=\"count\", title=\"Top 5 Tags\")\n",
        "fig.show()"
      ]
    },
    {
      "cell_type": "code",
      "execution_count": 37,
      "metadata": {
        "colab": {
          "base_uri": "https://localhost:8080/",
          "height": 542
        },
        "id": "uC3Tuix2Eraq",
        "outputId": "27b93113-4a5e-4533-ed43-cfb5c13c359c"
      },
      "outputs": [
        {
          "data": {
            "application/vnd.plotly.v1+json": {
              "config": {
                "plotlyServerURL": "https://plot.ly"
              },
              "data": [
                {
                  "bingroup": "x",
                  "hovertemplate": "price=%{x}<br>count=%{y}<extra></extra>",
                  "legendgroup": "",
                  "marker": {
                    "color": "#636efa",
                    "pattern": {
                      "shape": ""
                    }
                  },
                  "name": "",
                  "orientation": "v",
                  "showlegend": false,
                  "type": "histogram",
                  "x": {
                    "bdata": "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",
                    "dtype": "f8"
                  },
                  "xaxis": "x",
                  "yaxis": "y"
                }
              ],
              "layout": {
                "barmode": "relative",
                "legend": {
                  "tracegroupgap": 0
                },
                "template": {
                  "data": {
                    "bar": [
                      {
                        "error_x": {
                          "color": "#2a3f5f"
                        },
                        "error_y": {
                          "color": "#2a3f5f"
                        },
                        "marker": {
                          "line": {
                            "color": "#E5ECF6",
                            "width": 0.5
                          },
                          "pattern": {
                            "fillmode": "overlay",
                            "size": 10,
                            "solidity": 0.2
                          }
                        },
                        "type": "bar"
                      }
                    ],
                    "barpolar": [
                      {
                        "marker": {
                          "line": {
                            "color": "#E5ECF6",
                            "width": 0.5
                          },
                          "pattern": {
                            "fillmode": "overlay",
                            "size": 10,
                            "solidity": 0.2
                          }
                        },
                        "type": "barpolar"
                      }
                    ],
                    "carpet": [
                      {
                        "aaxis": {
                          "endlinecolor": "#2a3f5f",
                          "gridcolor": "white",
                          "linecolor": "white",
                          "minorgridcolor": "white",
                          "startlinecolor": "#2a3f5f"
                        },
                        "baxis": {
                          "endlinecolor": "#2a3f5f",
                          "gridcolor": "white",
                          "linecolor": "white",
                          "minorgridcolor": "white",
                          "startlinecolor": "#2a3f5f"
                        },
                        "type": "carpet"
                      }
                    ],
                    "choropleth": [
                      {
                        "colorbar": {
                          "outlinewidth": 0,
                          "ticks": ""
                        },
                        "type": "choropleth"
                      }
                    ],
                    "contour": [
                      {
                        "colorbar": {
                          "outlinewidth": 0,
                          "ticks": ""
                        },
                        "colorscale": [
                          [
                            0,
                            "#0d0887"
                          ],
                          [
                            0.1111111111111111,
                            "#46039f"
                          ],
                          [
                            0.2222222222222222,
                            "#7201a8"
                          ],
                          [
                            0.3333333333333333,
                            "#9c179e"
                          ],
                          [
                            0.4444444444444444,
                            "#bd3786"
                          ],
                          [
                            0.5555555555555556,
                            "#d8576b"
                          ],
                          [
                            0.6666666666666666,
                            "#ed7953"
                          ],
                          [
                            0.7777777777777778,
                            "#fb9f3a"
                          ],
                          [
                            0.8888888888888888,
                            "#fdca26"
                          ],
                          [
                            1,
                            "#f0f921"
                          ]
                        ],
                        "type": "contour"
                      }
                    ],
                    "contourcarpet": [
                      {
                        "colorbar": {
                          "outlinewidth": 0,
                          "ticks": ""
                        },
                        "type": "contourcarpet"
                      }
                    ],
                    "heatmap": [
                      {
                        "colorbar": {
                          "outlinewidth": 0,
                          "ticks": ""
                        },
                        "colorscale": [
                          [
                            0,
                            "#0d0887"
                          ],
                          [
                            0.1111111111111111,
                            "#46039f"
                          ],
                          [
                            0.2222222222222222,
                            "#7201a8"
                          ],
                          [
                            0.3333333333333333,
                            "#9c179e"
                          ],
                          [
                            0.4444444444444444,
                            "#bd3786"
                          ],
                          [
                            0.5555555555555556,
                            "#d8576b"
                          ],
                          [
                            0.6666666666666666,
                            "#ed7953"
                          ],
                          [
                            0.7777777777777778,
                            "#fb9f3a"
                          ],
                          [
                            0.8888888888888888,
                            "#fdca26"
                          ],
                          [
                            1,
                            "#f0f921"
                          ]
                        ],
                        "type": "heatmap"
                      }
                    ],
                    "histogram": [
                      {
                        "marker": {
                          "pattern": {
                            "fillmode": "overlay",
                            "size": 10,
                            "solidity": 0.2
                          }
                        },
                        "type": "histogram"
                      }
                    ],
                    "histogram2d": [
                      {
                        "colorbar": {
                          "outlinewidth": 0,
                          "ticks": ""
                        },
                        "colorscale": [
                          [
                            0,
                            "#0d0887"
                          ],
                          [
                            0.1111111111111111,
                            "#46039f"
                          ],
                          [
                            0.2222222222222222,
                            "#7201a8"
                          ],
                          [
                            0.3333333333333333,
                            "#9c179e"
                          ],
                          [
                            0.4444444444444444,
                            "#bd3786"
                          ],
                          [
                            0.5555555555555556,
                            "#d8576b"
                          ],
                          [
                            0.6666666666666666,
                            "#ed7953"
                          ],
                          [
                            0.7777777777777778,
                            "#fb9f3a"
                          ],
                          [
                            0.8888888888888888,
                            "#fdca26"
                          ],
                          [
                            1,
                            "#f0f921"
                          ]
                        ],
                        "type": "histogram2d"
                      }
                    ],
                    "histogram2dcontour": [
                      {
                        "colorbar": {
                          "outlinewidth": 0,
                          "ticks": ""
                        },
                        "colorscale": [
                          [
                            0,
                            "#0d0887"
                          ],
                          [
                            0.1111111111111111,
                            "#46039f"
                          ],
                          [
                            0.2222222222222222,
                            "#7201a8"
                          ],
                          [
                            0.3333333333333333,
                            "#9c179e"
                          ],
                          [
                            0.4444444444444444,
                            "#bd3786"
                          ],
                          [
                            0.5555555555555556,
                            "#d8576b"
                          ],
                          [
                            0.6666666666666666,
                            "#ed7953"
                          ],
                          [
                            0.7777777777777778,
                            "#fb9f3a"
                          ],
                          [
                            0.8888888888888888,
                            "#fdca26"
                          ],
                          [
                            1,
                            "#f0f921"
                          ]
                        ],
                        "type": "histogram2dcontour"
                      }
                    ],
                    "mesh3d": [
                      {
                        "colorbar": {
                          "outlinewidth": 0,
                          "ticks": ""
                        },
                        "type": "mesh3d"
                      }
                    ],
                    "parcoords": [
                      {
                        "line": {
                          "colorbar": {
                            "outlinewidth": 0,
                            "ticks": ""
                          }
                        },
                        "type": "parcoords"
                      }
                    ],
                    "pie": [
                      {
                        "automargin": true,
                        "type": "pie"
                      }
                    ],
                    "scatter": [
                      {
                        "fillpattern": {
                          "fillmode": "overlay",
                          "size": 10,
                          "solidity": 0.2
                        },
                        "type": "scatter"
                      }
                    ],
                    "scatter3d": [
                      {
                        "line": {
                          "colorbar": {
                            "outlinewidth": 0,
                            "ticks": ""
                          }
                        },
                        "marker": {
                          "colorbar": {
                            "outlinewidth": 0,
                            "ticks": ""
                          }
                        },
                        "type": "scatter3d"
                      }
                    ],
                    "scattercarpet": [
                      {
                        "marker": {
                          "colorbar": {
                            "outlinewidth": 0,
                            "ticks": ""
                          }
                        },
                        "type": "scattercarpet"
                      }
                    ],
                    "scattergeo": [
                      {
                        "marker": {
                          "colorbar": {
                            "outlinewidth": 0,
                            "ticks": ""
                          }
                        },
                        "type": "scattergeo"
                      }
                    ],
                    "scattergl": [
                      {
                        "marker": {
                          "colorbar": {
                            "outlinewidth": 0,
                            "ticks": ""
                          }
                        },
                        "type": "scattergl"
                      }
                    ],
                    "scattermap": [
                      {
                        "marker": {
                          "colorbar": {
                            "outlinewidth": 0,
                            "ticks": ""
                          }
                        },
                        "type": "scattermap"
                      }
                    ],
                    "scattermapbox": [
                      {
                        "marker": {
                          "colorbar": {
                            "outlinewidth": 0,
                            "ticks": ""
                          }
                        },
                        "type": "scattermapbox"
                      }
                    ],
                    "scatterpolar": [
                      {
                        "marker": {
                          "colorbar": {
                            "outlinewidth": 0,
                            "ticks": ""
                          }
                        },
                        "type": "scatterpolar"
                      }
                    ],
                    "scatterpolargl": [
                      {
                        "marker": {
                          "colorbar": {
                            "outlinewidth": 0,
                            "ticks": ""
                          }
                        },
                        "type": "scatterpolargl"
                      }
                    ],
                    "scatterternary": [
                      {
                        "marker": {
                          "colorbar": {
                            "outlinewidth": 0,
                            "ticks": ""
                          }
                        },
                        "type": "scatterternary"
                      }
                    ],
                    "surface": [
                      {
                        "colorbar": {
                          "outlinewidth": 0,
                          "ticks": ""
                        },
                        "colorscale": [
                          [
                            0,
                            "#0d0887"
                          ],
                          [
                            0.1111111111111111,
                            "#46039f"
                          ],
                          [
                            0.2222222222222222,
                            "#7201a8"
                          ],
                          [
                            0.3333333333333333,
                            "#9c179e"
                          ],
                          [
                            0.4444444444444444,
                            "#bd3786"
                          ],
                          [
                            0.5555555555555556,
                            "#d8576b"
                          ],
                          [
                            0.6666666666666666,
                            "#ed7953"
                          ],
                          [
                            0.7777777777777778,
                            "#fb9f3a"
                          ],
                          [
                            0.8888888888888888,
                            "#fdca26"
                          ],
                          [
                            1,
                            "#f0f921"
                          ]
                        ],
                        "type": "surface"
                      }
                    ],
                    "table": [
                      {
                        "cells": {
                          "fill": {
                            "color": "#EBF0F8"
                          },
                          "line": {
                            "color": "white"
                          }
                        },
                        "header": {
                          "fill": {
                            "color": "#C8D4E3"
                          },
                          "line": {
                            "color": "white"
                          }
                        },
                        "type": "table"
                      }
                    ]
                  },
                  "layout": {
                    "annotationdefaults": {
                      "arrowcolor": "#2a3f5f",
                      "arrowhead": 0,
                      "arrowwidth": 1
                    },
                    "autotypenumbers": "strict",
                    "coloraxis": {
                      "colorbar": {
                        "outlinewidth": 0,
                        "ticks": ""
                      }
                    },
                    "colorscale": {
                      "diverging": [
                        [
                          0,
                          "#8e0152"
                        ],
                        [
                          0.1,
                          "#c51b7d"
                        ],
                        [
                          0.2,
                          "#de77ae"
                        ],
                        [
                          0.3,
                          "#f1b6da"
                        ],
                        [
                          0.4,
                          "#fde0ef"
                        ],
                        [
                          0.5,
                          "#f7f7f7"
                        ],
                        [
                          0.6,
                          "#e6f5d0"
                        ],
                        [
                          0.7,
                          "#b8e186"
                        ],
                        [
                          0.8,
                          "#7fbc41"
                        ],
                        [
                          0.9,
                          "#4d9221"
                        ],
                        [
                          1,
                          "#276419"
                        ]
                      ],
                      "sequential": [
                        [
                          0,
                          "#0d0887"
                        ],
                        [
                          0.1111111111111111,
                          "#46039f"
                        ],
                        [
                          0.2222222222222222,
                          "#7201a8"
                        ],
                        [
                          0.3333333333333333,
                          "#9c179e"
                        ],
                        [
                          0.4444444444444444,
                          "#bd3786"
                        ],
                        [
                          0.5555555555555556,
                          "#d8576b"
                        ],
                        [
                          0.6666666666666666,
                          "#ed7953"
                        ],
                        [
                          0.7777777777777778,
                          "#fb9f3a"
                        ],
                        [
                          0.8888888888888888,
                          "#fdca26"
                        ],
                        [
                          1,
                          "#f0f921"
                        ]
                      ],
                      "sequentialminus": [
                        [
                          0,
                          "#0d0887"
                        ],
                        [
                          0.1111111111111111,
                          "#46039f"
                        ],
                        [
                          0.2222222222222222,
                          "#7201a8"
                        ],
                        [
                          0.3333333333333333,
                          "#9c179e"
                        ],
                        [
                          0.4444444444444444,
                          "#bd3786"
                        ],
                        [
                          0.5555555555555556,
                          "#d8576b"
                        ],
                        [
                          0.6666666666666666,
                          "#ed7953"
                        ],
                        [
                          0.7777777777777778,
                          "#fb9f3a"
                        ],
                        [
                          0.8888888888888888,
                          "#fdca26"
                        ],
                        [
                          1,
                          "#f0f921"
                        ]
                      ]
                    },
                    "colorway": [
                      "#636efa",
                      "#EF553B",
                      "#00cc96",
                      "#ab63fa",
                      "#FFA15A",
                      "#19d3f3",
                      "#FF6692",
                      "#B6E880",
                      "#FF97FF",
                      "#FECB52"
                    ],
                    "font": {
                      "color": "#2a3f5f"
                    },
                    "geo": {
                      "bgcolor": "white",
                      "lakecolor": "white",
                      "landcolor": "#E5ECF6",
                      "showlakes": true,
                      "showland": true,
                      "subunitcolor": "white"
                    },
                    "hoverlabel": {
                      "align": "left"
                    },
                    "hovermode": "closest",
                    "mapbox": {
                      "style": "light"
                    },
                    "paper_bgcolor": "white",
                    "plot_bgcolor": "#E5ECF6",
                    "polar": {
                      "angularaxis": {
                        "gridcolor": "white",
                        "linecolor": "white",
                        "ticks": ""
                      },
                      "bgcolor": "#E5ECF6",
                      "radialaxis": {
                        "gridcolor": "white",
                        "linecolor": "white",
                        "ticks": ""
                      }
                    },
                    "scene": {
                      "xaxis": {
                        "backgroundcolor": "#E5ECF6",
                        "gridcolor": "white",
                        "gridwidth": 2,
                        "linecolor": "white",
                        "showbackground": true,
                        "ticks": "",
                        "zerolinecolor": "white"
                      },
                      "yaxis": {
                        "backgroundcolor": "#E5ECF6",
                        "gridcolor": "white",
                        "gridwidth": 2,
                        "linecolor": "white",
                        "showbackground": true,
                        "ticks": "",
                        "zerolinecolor": "white"
                      },
                      "zaxis": {
                        "backgroundcolor": "#E5ECF6",
                        "gridcolor": "white",
                        "gridwidth": 2,
                        "linecolor": "white",
                        "showbackground": true,
                        "ticks": "",
                        "zerolinecolor": "white"
                      }
                    },
                    "shapedefaults": {
                      "line": {
                        "color": "#2a3f5f"
                      }
                    },
                    "ternary": {
                      "aaxis": {
                        "gridcolor": "white",
                        "linecolor": "white",
                        "ticks": ""
                      },
                      "baxis": {
                        "gridcolor": "white",
                        "linecolor": "white",
                        "ticks": ""
                      },
                      "bgcolor": "#E5ECF6",
                      "caxis": {
                        "gridcolor": "white",
                        "linecolor": "white",
                        "ticks": ""
                      }
                    },
                    "title": {
                      "x": 0.05
                    },
                    "xaxis": {
                      "automargin": true,
                      "gridcolor": "white",
                      "linecolor": "white",
                      "ticks": "",
                      "title": {
                        "standoff": 15
                      },
                      "zerolinecolor": "white",
                      "zerolinewidth": 2
                    },
                    "yaxis": {
                      "automargin": true,
                      "gridcolor": "white",
                      "linecolor": "white",
                      "ticks": "",
                      "title": {
                        "standoff": 15
                      },
                      "zerolinecolor": "white",
                      "zerolinewidth": 2
                    }
                  }
                },
                "title": {
                  "text": "Price Distribution"
                },
                "xaxis": {
                  "anchor": "y",
                  "domain": [
                    0,
                    1
                  ],
                  "title": {
                    "text": "Price (£)"
                  }
                },
                "yaxis": {
                  "anchor": "x",
                  "domain": [
                    0,
                    1
                  ],
                  "title": {
                    "text": "count"
                  }
                }
              }
            }
          },
          "metadata": {},
          "output_type": "display_data"
        }
      ],
      "source": [
        "# plot for price\n",
        "fig = px.histogram(df, x=\"price\", title=\"Price Distribution\")\n",
        "fig.update_xaxes(title=\"Price (£)\")\n",
        "fig.show()"
      ]
    },
    {
      "cell_type": "code",
      "execution_count": 38,
      "metadata": {
        "colab": {
          "base_uri": "https://localhost:8080/",
          "height": 542
        },
        "id": "LuZNRbnGHjiw",
        "outputId": "695f2904-fe7b-444d-f5b7-db86cce432b5"
      },
      "outputs": [
        {
          "data": {
            "application/vnd.plotly.v1+json": {
              "config": {
                "plotlyServerURL": "https://plot.ly"
              },
              "data": [
                {
                  "bingroup": "x",
                  "hovertemplate": "availability=%{x}<br>count=%{y}<extra></extra>",
                  "legendgroup": "",
                  "marker": {
                    "color": "#636efa",
                    "pattern": {
                      "shape": ""
                    }
                  },
                  "name": "",
                  "orientation": "v",
                  "showlegend": false,
                  "type": "histogram",
                  "x": {
                    "bdata": "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",
                    "dtype": "i2"
                  },
                  "xaxis": "x",
                  "yaxis": "y"
                }
              ],
              "layout": {
                "barmode": "relative",
                "legend": {
                  "tracegroupgap": 0
                },
                "template": {
                  "data": {
                    "bar": [
                      {
                        "error_x": {
                          "color": "#2a3f5f"
                        },
                        "error_y": {
                          "color": "#2a3f5f"
                        },
                        "marker": {
                          "line": {
                            "color": "#E5ECF6",
                            "width": 0.5
                          },
                          "pattern": {
                            "fillmode": "overlay",
                            "size": 10,
                            "solidity": 0.2
                          }
                        },
                        "type": "bar"
                      }
                    ],
                    "barpolar": [
                      {
                        "marker": {
                          "line": {
                            "color": "#E5ECF6",
                            "width": 0.5
                          },
                          "pattern": {
                            "fillmode": "overlay",
                            "size": 10,
                            "solidity": 0.2
                          }
                        },
                        "type": "barpolar"
                      }
                    ],
                    "carpet": [
                      {
                        "aaxis": {
                          "endlinecolor": "#2a3f5f",
                          "gridcolor": "white",
                          "linecolor": "white",
                          "minorgridcolor": "white",
                          "startlinecolor": "#2a3f5f"
                        },
                        "baxis": {
                          "endlinecolor": "#2a3f5f",
                          "gridcolor": "white",
                          "linecolor": "white",
                          "minorgridcolor": "white",
                          "startlinecolor": "#2a3f5f"
                        },
                        "type": "carpet"
                      }
                    ],
                    "choropleth": [
                      {
                        "colorbar": {
                          "outlinewidth": 0,
                          "ticks": ""
                        },
                        "type": "choropleth"
                      }
                    ],
                    "contour": [
                      {
                        "colorbar": {
                          "outlinewidth": 0,
                          "ticks": ""
                        },
                        "colorscale": [
                          [
                            0,
                            "#0d0887"
                          ],
                          [
                            0.1111111111111111,
                            "#46039f"
                          ],
                          [
                            0.2222222222222222,
                            "#7201a8"
                          ],
                          [
                            0.3333333333333333,
                            "#9c179e"
                          ],
                          [
                            0.4444444444444444,
                            "#bd3786"
                          ],
                          [
                            0.5555555555555556,
                            "#d8576b"
                          ],
                          [
                            0.6666666666666666,
                            "#ed7953"
                          ],
                          [
                            0.7777777777777778,
                            "#fb9f3a"
                          ],
                          [
                            0.8888888888888888,
                            "#fdca26"
                          ],
                          [
                            1,
                            "#f0f921"
                          ]
                        ],
                        "type": "contour"
                      }
                    ],
                    "contourcarpet": [
                      {
                        "colorbar": {
                          "outlinewidth": 0,
                          "ticks": ""
                        },
                        "type": "contourcarpet"
                      }
                    ],
                    "heatmap": [
                      {
                        "colorbar": {
                          "outlinewidth": 0,
                          "ticks": ""
                        },
                        "colorscale": [
                          [
                            0,
                            "#0d0887"
                          ],
                          [
                            0.1111111111111111,
                            "#46039f"
                          ],
                          [
                            0.2222222222222222,
                            "#7201a8"
                          ],
                          [
                            0.3333333333333333,
                            "#9c179e"
                          ],
                          [
                            0.4444444444444444,
                            "#bd3786"
                          ],
                          [
                            0.5555555555555556,
                            "#d8576b"
                          ],
                          [
                            0.6666666666666666,
                            "#ed7953"
                          ],
                          [
                            0.7777777777777778,
                            "#fb9f3a"
                          ],
                          [
                            0.8888888888888888,
                            "#fdca26"
                          ],
                          [
                            1,
                            "#f0f921"
                          ]
                        ],
                        "type": "heatmap"
                      }
                    ],
                    "histogram": [
                      {
                        "marker": {
                          "pattern": {
                            "fillmode": "overlay",
                            "size": 10,
                            "solidity": 0.2
                          }
                        },
                        "type": "histogram"
                      }
                    ],
                    "histogram2d": [
                      {
                        "colorbar": {
                          "outlinewidth": 0,
                          "ticks": ""
                        },
                        "colorscale": [
                          [
                            0,
                            "#0d0887"
                          ],
                          [
                            0.1111111111111111,
                            "#46039f"
                          ],
                          [
                            0.2222222222222222,
                            "#7201a8"
                          ],
                          [
                            0.3333333333333333,
                            "#9c179e"
                          ],
                          [
                            0.4444444444444444,
                            "#bd3786"
                          ],
                          [
                            0.5555555555555556,
                            "#d8576b"
                          ],
                          [
                            0.6666666666666666,
                            "#ed7953"
                          ],
                          [
                            0.7777777777777778,
                            "#fb9f3a"
                          ],
                          [
                            0.8888888888888888,
                            "#fdca26"
                          ],
                          [
                            1,
                            "#f0f921"
                          ]
                        ],
                        "type": "histogram2d"
                      }
                    ],
                    "histogram2dcontour": [
                      {
                        "colorbar": {
                          "outlinewidth": 0,
                          "ticks": ""
                        },
                        "colorscale": [
                          [
                            0,
                            "#0d0887"
                          ],
                          [
                            0.1111111111111111,
                            "#46039f"
                          ],
                          [
                            0.2222222222222222,
                            "#7201a8"
                          ],
                          [
                            0.3333333333333333,
                            "#9c179e"
                          ],
                          [
                            0.4444444444444444,
                            "#bd3786"
                          ],
                          [
                            0.5555555555555556,
                            "#d8576b"
                          ],
                          [
                            0.6666666666666666,
                            "#ed7953"
                          ],
                          [
                            0.7777777777777778,
                            "#fb9f3a"
                          ],
                          [
                            0.8888888888888888,
                            "#fdca26"
                          ],
                          [
                            1,
                            "#f0f921"
                          ]
                        ],
                        "type": "histogram2dcontour"
                      }
                    ],
                    "mesh3d": [
                      {
                        "colorbar": {
                          "outlinewidth": 0,
                          "ticks": ""
                        },
                        "type": "mesh3d"
                      }
                    ],
                    "parcoords": [
                      {
                        "line": {
                          "colorbar": {
                            "outlinewidth": 0,
                            "ticks": ""
                          }
                        },
                        "type": "parcoords"
                      }
                    ],
                    "pie": [
                      {
                        "automargin": true,
                        "type": "pie"
                      }
                    ],
                    "scatter": [
                      {
                        "fillpattern": {
                          "fillmode": "overlay",
                          "size": 10,
                          "solidity": 0.2
                        },
                        "type": "scatter"
                      }
                    ],
                    "scatter3d": [
                      {
                        "line": {
                          "colorbar": {
                            "outlinewidth": 0,
                            "ticks": ""
                          }
                        },
                        "marker": {
                          "colorbar": {
                            "outlinewidth": 0,
                            "ticks": ""
                          }
                        },
                        "type": "scatter3d"
                      }
                    ],
                    "scattercarpet": [
                      {
                        "marker": {
                          "colorbar": {
                            "outlinewidth": 0,
                            "ticks": ""
                          }
                        },
                        "type": "scattercarpet"
                      }
                    ],
                    "scattergeo": [
                      {
                        "marker": {
                          "colorbar": {
                            "outlinewidth": 0,
                            "ticks": ""
                          }
                        },
                        "type": "scattergeo"
                      }
                    ],
                    "scattergl": [
                      {
                        "marker": {
                          "colorbar": {
                            "outlinewidth": 0,
                            "ticks": ""
                          }
                        },
                        "type": "scattergl"
                      }
                    ],
                    "scattermap": [
                      {
                        "marker": {
                          "colorbar": {
                            "outlinewidth": 0,
                            "ticks": ""
                          }
                        },
                        "type": "scattermap"
                      }
                    ],
                    "scattermapbox": [
                      {
                        "marker": {
                          "colorbar": {
                            "outlinewidth": 0,
                            "ticks": ""
                          }
                        },
                        "type": "scattermapbox"
                      }
                    ],
                    "scatterpolar": [
                      {
                        "marker": {
                          "colorbar": {
                            "outlinewidth": 0,
                            "ticks": ""
                          }
                        },
                        "type": "scatterpolar"
                      }
                    ],
                    "scatterpolargl": [
                      {
                        "marker": {
                          "colorbar": {
                            "outlinewidth": 0,
                            "ticks": ""
                          }
                        },
                        "type": "scatterpolargl"
                      }
                    ],
                    "scatterternary": [
                      {
                        "marker": {
                          "colorbar": {
                            "outlinewidth": 0,
                            "ticks": ""
                          }
                        },
                        "type": "scatterternary"
                      }
                    ],
                    "surface": [
                      {
                        "colorbar": {
                          "outlinewidth": 0,
                          "ticks": ""
                        },
                        "colorscale": [
                          [
                            0,
                            "#0d0887"
                          ],
                          [
                            0.1111111111111111,
                            "#46039f"
                          ],
                          [
                            0.2222222222222222,
                            "#7201a8"
                          ],
                          [
                            0.3333333333333333,
                            "#9c179e"
                          ],
                          [
                            0.4444444444444444,
                            "#bd3786"
                          ],
                          [
                            0.5555555555555556,
                            "#d8576b"
                          ],
                          [
                            0.6666666666666666,
                            "#ed7953"
                          ],
                          [
                            0.7777777777777778,
                            "#fb9f3a"
                          ],
                          [
                            0.8888888888888888,
                            "#fdca26"
                          ],
                          [
                            1,
                            "#f0f921"
                          ]
                        ],
                        "type": "surface"
                      }
                    ],
                    "table": [
                      {
                        "cells": {
                          "fill": {
                            "color": "#EBF0F8"
                          },
                          "line": {
                            "color": "white"
                          }
                        },
                        "header": {
                          "fill": {
                            "color": "#C8D4E3"
                          },
                          "line": {
                            "color": "white"
                          }
                        },
                        "type": "table"
                      }
                    ]
                  },
                  "layout": {
                    "annotationdefaults": {
                      "arrowcolor": "#2a3f5f",
                      "arrowhead": 0,
                      "arrowwidth": 1
                    },
                    "autotypenumbers": "strict",
                    "coloraxis": {
                      "colorbar": {
                        "outlinewidth": 0,
                        "ticks": ""
                      }
                    },
                    "colorscale": {
                      "diverging": [
                        [
                          0,
                          "#8e0152"
                        ],
                        [
                          0.1,
                          "#c51b7d"
                        ],
                        [
                          0.2,
                          "#de77ae"
                        ],
                        [
                          0.3,
                          "#f1b6da"
                        ],
                        [
                          0.4,
                          "#fde0ef"
                        ],
                        [
                          0.5,
                          "#f7f7f7"
                        ],
                        [
                          0.6,
                          "#e6f5d0"
                        ],
                        [
                          0.7,
                          "#b8e186"
                        ],
                        [
                          0.8,
                          "#7fbc41"
                        ],
                        [
                          0.9,
                          "#4d9221"
                        ],
                        [
                          1,
                          "#276419"
                        ]
                      ],
                      "sequential": [
                        [
                          0,
                          "#0d0887"
                        ],
                        [
                          0.1111111111111111,
                          "#46039f"
                        ],
                        [
                          0.2222222222222222,
                          "#7201a8"
                        ],
                        [
                          0.3333333333333333,
                          "#9c179e"
                        ],
                        [
                          0.4444444444444444,
                          "#bd3786"
                        ],
                        [
                          0.5555555555555556,
                          "#d8576b"
                        ],
                        [
                          0.6666666666666666,
                          "#ed7953"
                        ],
                        [
                          0.7777777777777778,
                          "#fb9f3a"
                        ],
                        [
                          0.8888888888888888,
                          "#fdca26"
                        ],
                        [
                          1,
                          "#f0f921"
                        ]
                      ],
                      "sequentialminus": [
                        [
                          0,
                          "#0d0887"
                        ],
                        [
                          0.1111111111111111,
                          "#46039f"
                        ],
                        [
                          0.2222222222222222,
                          "#7201a8"
                        ],
                        [
                          0.3333333333333333,
                          "#9c179e"
                        ],
                        [
                          0.4444444444444444,
                          "#bd3786"
                        ],
                        [
                          0.5555555555555556,
                          "#d8576b"
                        ],
                        [
                          0.6666666666666666,
                          "#ed7953"
                        ],
                        [
                          0.7777777777777778,
                          "#fb9f3a"
                        ],
                        [
                          0.8888888888888888,
                          "#fdca26"
                        ],
                        [
                          1,
                          "#f0f921"
                        ]
                      ]
                    },
                    "colorway": [
                      "#636efa",
                      "#EF553B",
                      "#00cc96",
                      "#ab63fa",
                      "#FFA15A",
                      "#19d3f3",
                      "#FF6692",
                      "#B6E880",
                      "#FF97FF",
                      "#FECB52"
                    ],
                    "font": {
                      "color": "#2a3f5f"
                    },
                    "geo": {
                      "bgcolor": "white",
                      "lakecolor": "white",
                      "landcolor": "#E5ECF6",
                      "showlakes": true,
                      "showland": true,
                      "subunitcolor": "white"
                    },
                    "hoverlabel": {
                      "align": "left"
                    },
                    "hovermode": "closest",
                    "mapbox": {
                      "style": "light"
                    },
                    "paper_bgcolor": "white",
                    "plot_bgcolor": "#E5ECF6",
                    "polar": {
                      "angularaxis": {
                        "gridcolor": "white",
                        "linecolor": "white",
                        "ticks": ""
                      },
                      "bgcolor": "#E5ECF6",
                      "radialaxis": {
                        "gridcolor": "white",
                        "linecolor": "white",
                        "ticks": ""
                      }
                    },
                    "scene": {
                      "xaxis": {
                        "backgroundcolor": "#E5ECF6",
                        "gridcolor": "white",
                        "gridwidth": 2,
                        "linecolor": "white",
                        "showbackground": true,
                        "ticks": "",
                        "zerolinecolor": "white"
                      },
                      "yaxis": {
                        "backgroundcolor": "#E5ECF6",
                        "gridcolor": "white",
                        "gridwidth": 2,
                        "linecolor": "white",
                        "showbackground": true,
                        "ticks": "",
                        "zerolinecolor": "white"
                      },
                      "zaxis": {
                        "backgroundcolor": "#E5ECF6",
                        "gridcolor": "white",
                        "gridwidth": 2,
                        "linecolor": "white",
                        "showbackground": true,
                        "ticks": "",
                        "zerolinecolor": "white"
                      }
                    },
                    "shapedefaults": {
                      "line": {
                        "color": "#2a3f5f"
                      }
                    },
                    "ternary": {
                      "aaxis": {
                        "gridcolor": "white",
                        "linecolor": "white",
                        "ticks": ""
                      },
                      "baxis": {
                        "gridcolor": "white",
                        "linecolor": "white",
                        "ticks": ""
                      },
                      "bgcolor": "#E5ECF6",
                      "caxis": {
                        "gridcolor": "white",
                        "linecolor": "white",
                        "ticks": ""
                      }
                    },
                    "title": {
                      "x": 0.05
                    },
                    "xaxis": {
                      "automargin": true,
                      "gridcolor": "white",
                      "linecolor": "white",
                      "ticks": "",
                      "title": {
                        "standoff": 15
                      },
                      "zerolinecolor": "white",
                      "zerolinewidth": 2
                    },
                    "yaxis": {
                      "automargin": true,
                      "gridcolor": "white",
                      "linecolor": "white",
                      "ticks": "",
                      "title": {
                        "standoff": 15
                      },
                      "zerolinecolor": "white",
                      "zerolinewidth": 2
                    }
                  }
                },
                "title": {
                  "text": "Stock Distribution"
                },
                "xaxis": {
                  "anchor": "y",
                  "domain": [
                    0,
                    1
                  ],
                  "title": {
                    "text": "Num Of Stock"
                  }
                },
                "yaxis": {
                  "anchor": "x",
                  "domain": [
                    0,
                    1
                  ],
                  "title": {
                    "text": "count"
                  }
                }
              }
            }
          },
          "metadata": {},
          "output_type": "display_data"
        }
      ],
      "source": [
        "# Histogram of stock\n",
        "fig = px.histogram(df, x=\"availability\", title=\"Stock Distribution\")\n",
        "fig.update_xaxes(title=\"Num Of Stock\")\n",
        "fig.show()"
      ]
    },
    {
      "cell_type": "code",
      "execution_count": 39,
      "metadata": {
        "colab": {
          "base_uri": "https://localhost:8080/",
          "height": 542
        },
        "id": "MyfZv5SML3cm",
        "outputId": "091c0017-8b9e-4647-a983-6334864ce5b6"
      },
      "outputs": [
        {
          "data": {
            "application/vnd.plotly.v1+json": {
              "config": {
                "plotlyServerURL": "https://plot.ly"
              },
              "data": [
                {
                  "alignmentgroup": "True",
                  "hovertemplate": "price=%{y}<extra></extra>",
                  "legendgroup": "",
                  "marker": {
                    "color": "#636efa"
                  },
                  "name": "",
                  "notched": false,
                  "offsetgroup": "",
                  "orientation": "v",
                  "showlegend": false,
                  "type": "box",
                  "x0": " ",
                  "xaxis": "x",
                  "y": {
                    "bdata": "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",
                    "dtype": "f8"
                  },
                  "y0": " ",
                  "yaxis": "y"
                }
              ],
              "layout": {
                "boxmode": "group",
                "legend": {
                  "tracegroupgap": 0
                },
                "template": {
                  "data": {
                    "bar": [
                      {
                        "error_x": {
                          "color": "#2a3f5f"
                        },
                        "error_y": {
                          "color": "#2a3f5f"
                        },
                        "marker": {
                          "line": {
                            "color": "#E5ECF6",
                            "width": 0.5
                          },
                          "pattern": {
                            "fillmode": "overlay",
                            "size": 10,
                            "solidity": 0.2
                          }
                        },
                        "type": "bar"
                      }
                    ],
                    "barpolar": [
                      {
                        "marker": {
                          "line": {
                            "color": "#E5ECF6",
                            "width": 0.5
                          },
                          "pattern": {
                            "fillmode": "overlay",
                            "size": 10,
                            "solidity": 0.2
                          }
                        },
                        "type": "barpolar"
                      }
                    ],
                    "carpet": [
                      {
                        "aaxis": {
                          "endlinecolor": "#2a3f5f",
                          "gridcolor": "white",
                          "linecolor": "white",
                          "minorgridcolor": "white",
                          "startlinecolor": "#2a3f5f"
                        },
                        "baxis": {
                          "endlinecolor": "#2a3f5f",
                          "gridcolor": "white",
                          "linecolor": "white",
                          "minorgridcolor": "white",
                          "startlinecolor": "#2a3f5f"
                        },
                        "type": "carpet"
                      }
                    ],
                    "choropleth": [
                      {
                        "colorbar": {
                          "outlinewidth": 0,
                          "ticks": ""
                        },
                        "type": "choropleth"
                      }
                    ],
                    "contour": [
                      {
                        "colorbar": {
                          "outlinewidth": 0,
                          "ticks": ""
                        },
                        "colorscale": [
                          [
                            0,
                            "#0d0887"
                          ],
                          [
                            0.1111111111111111,
                            "#46039f"
                          ],
                          [
                            0.2222222222222222,
                            "#7201a8"
                          ],
                          [
                            0.3333333333333333,
                            "#9c179e"
                          ],
                          [
                            0.4444444444444444,
                            "#bd3786"
                          ],
                          [
                            0.5555555555555556,
                            "#d8576b"
                          ],
                          [
                            0.6666666666666666,
                            "#ed7953"
                          ],
                          [
                            0.7777777777777778,
                            "#fb9f3a"
                          ],
                          [
                            0.8888888888888888,
                            "#fdca26"
                          ],
                          [
                            1,
                            "#f0f921"
                          ]
                        ],
                        "type": "contour"
                      }
                    ],
                    "contourcarpet": [
                      {
                        "colorbar": {
                          "outlinewidth": 0,
                          "ticks": ""
                        },
                        "type": "contourcarpet"
                      }
                    ],
                    "heatmap": [
                      {
                        "colorbar": {
                          "outlinewidth": 0,
                          "ticks": ""
                        },
                        "colorscale": [
                          [
                            0,
                            "#0d0887"
                          ],
                          [
                            0.1111111111111111,
                            "#46039f"
                          ],
                          [
                            0.2222222222222222,
                            "#7201a8"
                          ],
                          [
                            0.3333333333333333,
                            "#9c179e"
                          ],
                          [
                            0.4444444444444444,
                            "#bd3786"
                          ],
                          [
                            0.5555555555555556,
                            "#d8576b"
                          ],
                          [
                            0.6666666666666666,
                            "#ed7953"
                          ],
                          [
                            0.7777777777777778,
                            "#fb9f3a"
                          ],
                          [
                            0.8888888888888888,
                            "#fdca26"
                          ],
                          [
                            1,
                            "#f0f921"
                          ]
                        ],
                        "type": "heatmap"
                      }
                    ],
                    "histogram": [
                      {
                        "marker": {
                          "pattern": {
                            "fillmode": "overlay",
                            "size": 10,
                            "solidity": 0.2
                          }
                        },
                        "type": "histogram"
                      }
                    ],
                    "histogram2d": [
                      {
                        "colorbar": {
                          "outlinewidth": 0,
                          "ticks": ""
                        },
                        "colorscale": [
                          [
                            0,
                            "#0d0887"
                          ],
                          [
                            0.1111111111111111,
                            "#46039f"
                          ],
                          [
                            0.2222222222222222,
                            "#7201a8"
                          ],
                          [
                            0.3333333333333333,
                            "#9c179e"
                          ],
                          [
                            0.4444444444444444,
                            "#bd3786"
                          ],
                          [
                            0.5555555555555556,
                            "#d8576b"
                          ],
                          [
                            0.6666666666666666,
                            "#ed7953"
                          ],
                          [
                            0.7777777777777778,
                            "#fb9f3a"
                          ],
                          [
                            0.8888888888888888,
                            "#fdca26"
                          ],
                          [
                            1,
                            "#f0f921"
                          ]
                        ],
                        "type": "histogram2d"
                      }
                    ],
                    "histogram2dcontour": [
                      {
                        "colorbar": {
                          "outlinewidth": 0,
                          "ticks": ""
                        },
                        "colorscale": [
                          [
                            0,
                            "#0d0887"
                          ],
                          [
                            0.1111111111111111,
                            "#46039f"
                          ],
                          [
                            0.2222222222222222,
                            "#7201a8"
                          ],
                          [
                            0.3333333333333333,
                            "#9c179e"
                          ],
                          [
                            0.4444444444444444,
                            "#bd3786"
                          ],
                          [
                            0.5555555555555556,
                            "#d8576b"
                          ],
                          [
                            0.6666666666666666,
                            "#ed7953"
                          ],
                          [
                            0.7777777777777778,
                            "#fb9f3a"
                          ],
                          [
                            0.8888888888888888,
                            "#fdca26"
                          ],
                          [
                            1,
                            "#f0f921"
                          ]
                        ],
                        "type": "histogram2dcontour"
                      }
                    ],
                    "mesh3d": [
                      {
                        "colorbar": {
                          "outlinewidth": 0,
                          "ticks": ""
                        },
                        "type": "mesh3d"
                      }
                    ],
                    "parcoords": [
                      {
                        "line": {
                          "colorbar": {
                            "outlinewidth": 0,
                            "ticks": ""
                          }
                        },
                        "type": "parcoords"
                      }
                    ],
                    "pie": [
                      {
                        "automargin": true,
                        "type": "pie"
                      }
                    ],
                    "scatter": [
                      {
                        "fillpattern": {
                          "fillmode": "overlay",
                          "size": 10,
                          "solidity": 0.2
                        },
                        "type": "scatter"
                      }
                    ],
                    "scatter3d": [
                      {
                        "line": {
                          "colorbar": {
                            "outlinewidth": 0,
                            "ticks": ""
                          }
                        },
                        "marker": {
                          "colorbar": {
                            "outlinewidth": 0,
                            "ticks": ""
                          }
                        },
                        "type": "scatter3d"
                      }
                    ],
                    "scattercarpet": [
                      {
                        "marker": {
                          "colorbar": {
                            "outlinewidth": 0,
                            "ticks": ""
                          }
                        },
                        "type": "scattercarpet"
                      }
                    ],
                    "scattergeo": [
                      {
                        "marker": {
                          "colorbar": {
                            "outlinewidth": 0,
                            "ticks": ""
                          }
                        },
                        "type": "scattergeo"
                      }
                    ],
                    "scattergl": [
                      {
                        "marker": {
                          "colorbar": {
                            "outlinewidth": 0,
                            "ticks": ""
                          }
                        },
                        "type": "scattergl"
                      }
                    ],
                    "scattermap": [
                      {
                        "marker": {
                          "colorbar": {
                            "outlinewidth": 0,
                            "ticks": ""
                          }
                        },
                        "type": "scattermap"
                      }
                    ],
                    "scattermapbox": [
                      {
                        "marker": {
                          "colorbar": {
                            "outlinewidth": 0,
                            "ticks": ""
                          }
                        },
                        "type": "scattermapbox"
                      }
                    ],
                    "scatterpolar": [
                      {
                        "marker": {
                          "colorbar": {
                            "outlinewidth": 0,
                            "ticks": ""
                          }
                        },
                        "type": "scatterpolar"
                      }
                    ],
                    "scatterpolargl": [
                      {
                        "marker": {
                          "colorbar": {
                            "outlinewidth": 0,
                            "ticks": ""
                          }
                        },
                        "type": "scatterpolargl"
                      }
                    ],
                    "scatterternary": [
                      {
                        "marker": {
                          "colorbar": {
                            "outlinewidth": 0,
                            "ticks": ""
                          }
                        },
                        "type": "scatterternary"
                      }
                    ],
                    "surface": [
                      {
                        "colorbar": {
                          "outlinewidth": 0,
                          "ticks": ""
                        },
                        "colorscale": [
                          [
                            0,
                            "#0d0887"
                          ],
                          [
                            0.1111111111111111,
                            "#46039f"
                          ],
                          [
                            0.2222222222222222,
                            "#7201a8"
                          ],
                          [
                            0.3333333333333333,
                            "#9c179e"
                          ],
                          [
                            0.4444444444444444,
                            "#bd3786"
                          ],
                          [
                            0.5555555555555556,
                            "#d8576b"
                          ],
                          [
                            0.6666666666666666,
                            "#ed7953"
                          ],
                          [
                            0.7777777777777778,
                            "#fb9f3a"
                          ],
                          [
                            0.8888888888888888,
                            "#fdca26"
                          ],
                          [
                            1,
                            "#f0f921"
                          ]
                        ],
                        "type": "surface"
                      }
                    ],
                    "table": [
                      {
                        "cells": {
                          "fill": {
                            "color": "#EBF0F8"
                          },
                          "line": {
                            "color": "white"
                          }
                        },
                        "header": {
                          "fill": {
                            "color": "#C8D4E3"
                          },
                          "line": {
                            "color": "white"
                          }
                        },
                        "type": "table"
                      }
                    ]
                  },
                  "layout": {
                    "annotationdefaults": {
                      "arrowcolor": "#2a3f5f",
                      "arrowhead": 0,
                      "arrowwidth": 1
                    },
                    "autotypenumbers": "strict",
                    "coloraxis": {
                      "colorbar": {
                        "outlinewidth": 0,
                        "ticks": ""
                      }
                    },
                    "colorscale": {
                      "diverging": [
                        [
                          0,
                          "#8e0152"
                        ],
                        [
                          0.1,
                          "#c51b7d"
                        ],
                        [
                          0.2,
                          "#de77ae"
                        ],
                        [
                          0.3,
                          "#f1b6da"
                        ],
                        [
                          0.4,
                          "#fde0ef"
                        ],
                        [
                          0.5,
                          "#f7f7f7"
                        ],
                        [
                          0.6,
                          "#e6f5d0"
                        ],
                        [
                          0.7,
                          "#b8e186"
                        ],
                        [
                          0.8,
                          "#7fbc41"
                        ],
                        [
                          0.9,
                          "#4d9221"
                        ],
                        [
                          1,
                          "#276419"
                        ]
                      ],
                      "sequential": [
                        [
                          0,
                          "#0d0887"
                        ],
                        [
                          0.1111111111111111,
                          "#46039f"
                        ],
                        [
                          0.2222222222222222,
                          "#7201a8"
                        ],
                        [
                          0.3333333333333333,
                          "#9c179e"
                        ],
                        [
                          0.4444444444444444,
                          "#bd3786"
                        ],
                        [
                          0.5555555555555556,
                          "#d8576b"
                        ],
                        [
                          0.6666666666666666,
                          "#ed7953"
                        ],
                        [
                          0.7777777777777778,
                          "#fb9f3a"
                        ],
                        [
                          0.8888888888888888,
                          "#fdca26"
                        ],
                        [
                          1,
                          "#f0f921"
                        ]
                      ],
                      "sequentialminus": [
                        [
                          0,
                          "#0d0887"
                        ],
                        [
                          0.1111111111111111,
                          "#46039f"
                        ],
                        [
                          0.2222222222222222,
                          "#7201a8"
                        ],
                        [
                          0.3333333333333333,
                          "#9c179e"
                        ],
                        [
                          0.4444444444444444,
                          "#bd3786"
                        ],
                        [
                          0.5555555555555556,
                          "#d8576b"
                        ],
                        [
                          0.6666666666666666,
                          "#ed7953"
                        ],
                        [
                          0.7777777777777778,
                          "#fb9f3a"
                        ],
                        [
                          0.8888888888888888,
                          "#fdca26"
                        ],
                        [
                          1,
                          "#f0f921"
                        ]
                      ]
                    },
                    "colorway": [
                      "#636efa",
                      "#EF553B",
                      "#00cc96",
                      "#ab63fa",
                      "#FFA15A",
                      "#19d3f3",
                      "#FF6692",
                      "#B6E880",
                      "#FF97FF",
                      "#FECB52"
                    ],
                    "font": {
                      "color": "#2a3f5f"
                    },
                    "geo": {
                      "bgcolor": "white",
                      "lakecolor": "white",
                      "landcolor": "#E5ECF6",
                      "showlakes": true,
                      "showland": true,
                      "subunitcolor": "white"
                    },
                    "hoverlabel": {
                      "align": "left"
                    },
                    "hovermode": "closest",
                    "mapbox": {
                      "style": "light"
                    },
                    "paper_bgcolor": "white",
                    "plot_bgcolor": "#E5ECF6",
                    "polar": {
                      "angularaxis": {
                        "gridcolor": "white",
                        "linecolor": "white",
                        "ticks": ""
                      },
                      "bgcolor": "#E5ECF6",
                      "radialaxis": {
                        "gridcolor": "white",
                        "linecolor": "white",
                        "ticks": ""
                      }
                    },
                    "scene": {
                      "xaxis": {
                        "backgroundcolor": "#E5ECF6",
                        "gridcolor": "white",
                        "gridwidth": 2,
                        "linecolor": "white",
                        "showbackground": true,
                        "ticks": "",
                        "zerolinecolor": "white"
                      },
                      "yaxis": {
                        "backgroundcolor": "#E5ECF6",
                        "gridcolor": "white",
                        "gridwidth": 2,
                        "linecolor": "white",
                        "showbackground": true,
                        "ticks": "",
                        "zerolinecolor": "white"
                      },
                      "zaxis": {
                        "backgroundcolor": "#E5ECF6",
                        "gridcolor": "white",
                        "gridwidth": 2,
                        "linecolor": "white",
                        "showbackground": true,
                        "ticks": "",
                        "zerolinecolor": "white"
                      }
                    },
                    "shapedefaults": {
                      "line": {
                        "color": "#2a3f5f"
                      }
                    },
                    "ternary": {
                      "aaxis": {
                        "gridcolor": "white",
                        "linecolor": "white",
                        "ticks": ""
                      },
                      "baxis": {
                        "gridcolor": "white",
                        "linecolor": "white",
                        "ticks": ""
                      },
                      "bgcolor": "#E5ECF6",
                      "caxis": {
                        "gridcolor": "white",
                        "linecolor": "white",
                        "ticks": ""
                      }
                    },
                    "title": {
                      "x": 0.05
                    },
                    "xaxis": {
                      "automargin": true,
                      "gridcolor": "white",
                      "linecolor": "white",
                      "ticks": "",
                      "title": {
                        "standoff": 15
                      },
                      "zerolinecolor": "white",
                      "zerolinewidth": 2
                    },
                    "yaxis": {
                      "automargin": true,
                      "gridcolor": "white",
                      "linecolor": "white",
                      "ticks": "",
                      "title": {
                        "standoff": 15
                      },
                      "zerolinecolor": "white",
                      "zerolinewidth": 2
                    }
                  }
                },
                "title": {
                  "text": "Price Boxplot"
                },
                "xaxis": {
                  "anchor": "y",
                  "domain": [
                    0,
                    1
                  ]
                },
                "yaxis": {
                  "anchor": "x",
                  "domain": [
                    0,
                    1
                  ],
                  "title": {
                    "text": "Price (£)"
                  }
                }
              }
            }
          },
          "metadata": {},
          "output_type": "display_data"
        }
      ],
      "source": [
        "fig = px.box(df, y=\"price\", title=\"Price Boxplot\")\n",
        "fig.update_yaxes(title=\"Price (£)\")\n",
        "fig.show()"
      ]
    },
    {
      "cell_type": "code",
      "execution_count": 40,
      "metadata": {
        "colab": {
          "base_uri": "https://localhost:8080/",
          "height": 542
        },
        "id": "YTr9mRvQNUNe",
        "outputId": "99982e57-1ac6-4e35-eb7f-7c177113eb4f"
      },
      "outputs": [
        {
          "data": {
            "application/vnd.plotly.v1+json": {
              "config": {
                "plotlyServerURL": "https://plot.ly"
              },
              "data": [
                {
                  "hovertemplate": "categories=%{x}<br>y=%{y}<extra></extra>",
                  "legendgroup": "",
                  "marker": {
                    "color": "#636efa",
                    "pattern": {
                      "shape": ""
                    }
                  },
                  "name": "",
                  "orientation": "v",
                  "showlegend": false,
                  "textposition": "auto",
                  "type": "bar",
                  "x": [
                    "Dragon, Pokemon",
                    "Mouse, Pokemon",
                    "Mushroom, Pokemon",
                    "Flame, Pokemon",
                    "Fox, Pokemon"
                  ],
                  "xaxis": "x",
                  "y": {
                    "bdata": "CAYFBQU=",
                    "dtype": "i1"
                  },
                  "yaxis": "y"
                }
              ],
              "layout": {
                "barmode": "relative",
                "legend": {
                  "tracegroupgap": 0
                },
                "template": {
                  "data": {
                    "bar": [
                      {
                        "error_x": {
                          "color": "#2a3f5f"
                        },
                        "error_y": {
                          "color": "#2a3f5f"
                        },
                        "marker": {
                          "line": {
                            "color": "#E5ECF6",
                            "width": 0.5
                          },
                          "pattern": {
                            "fillmode": "overlay",
                            "size": 10,
                            "solidity": 0.2
                          }
                        },
                        "type": "bar"
                      }
                    ],
                    "barpolar": [
                      {
                        "marker": {
                          "line": {
                            "color": "#E5ECF6",
                            "width": 0.5
                          },
                          "pattern": {
                            "fillmode": "overlay",
                            "size": 10,
                            "solidity": 0.2
                          }
                        },
                        "type": "barpolar"
                      }
                    ],
                    "carpet": [
                      {
                        "aaxis": {
                          "endlinecolor": "#2a3f5f",
                          "gridcolor": "white",
                          "linecolor": "white",
                          "minorgridcolor": "white",
                          "startlinecolor": "#2a3f5f"
                        },
                        "baxis": {
                          "endlinecolor": "#2a3f5f",
                          "gridcolor": "white",
                          "linecolor": "white",
                          "minorgridcolor": "white",
                          "startlinecolor": "#2a3f5f"
                        },
                        "type": "carpet"
                      }
                    ],
                    "choropleth": [
                      {
                        "colorbar": {
                          "outlinewidth": 0,
                          "ticks": ""
                        },
                        "type": "choropleth"
                      }
                    ],
                    "contour": [
                      {
                        "colorbar": {
                          "outlinewidth": 0,
                          "ticks": ""
                        },
                        "colorscale": [
                          [
                            0,
                            "#0d0887"
                          ],
                          [
                            0.1111111111111111,
                            "#46039f"
                          ],
                          [
                            0.2222222222222222,
                            "#7201a8"
                          ],
                          [
                            0.3333333333333333,
                            "#9c179e"
                          ],
                          [
                            0.4444444444444444,
                            "#bd3786"
                          ],
                          [
                            0.5555555555555556,
                            "#d8576b"
                          ],
                          [
                            0.6666666666666666,
                            "#ed7953"
                          ],
                          [
                            0.7777777777777778,
                            "#fb9f3a"
                          ],
                          [
                            0.8888888888888888,
                            "#fdca26"
                          ],
                          [
                            1,
                            "#f0f921"
                          ]
                        ],
                        "type": "contour"
                      }
                    ],
                    "contourcarpet": [
                      {
                        "colorbar": {
                          "outlinewidth": 0,
                          "ticks": ""
                        },
                        "type": "contourcarpet"
                      }
                    ],
                    "heatmap": [
                      {
                        "colorbar": {
                          "outlinewidth": 0,
                          "ticks": ""
                        },
                        "colorscale": [
                          [
                            0,
                            "#0d0887"
                          ],
                          [
                            0.1111111111111111,
                            "#46039f"
                          ],
                          [
                            0.2222222222222222,
                            "#7201a8"
                          ],
                          [
                            0.3333333333333333,
                            "#9c179e"
                          ],
                          [
                            0.4444444444444444,
                            "#bd3786"
                          ],
                          [
                            0.5555555555555556,
                            "#d8576b"
                          ],
                          [
                            0.6666666666666666,
                            "#ed7953"
                          ],
                          [
                            0.7777777777777778,
                            "#fb9f3a"
                          ],
                          [
                            0.8888888888888888,
                            "#fdca26"
                          ],
                          [
                            1,
                            "#f0f921"
                          ]
                        ],
                        "type": "heatmap"
                      }
                    ],
                    "histogram": [
                      {
                        "marker": {
                          "pattern": {
                            "fillmode": "overlay",
                            "size": 10,
                            "solidity": 0.2
                          }
                        },
                        "type": "histogram"
                      }
                    ],
                    "histogram2d": [
                      {
                        "colorbar": {
                          "outlinewidth": 0,
                          "ticks": ""
                        },
                        "colorscale": [
                          [
                            0,
                            "#0d0887"
                          ],
                          [
                            0.1111111111111111,
                            "#46039f"
                          ],
                          [
                            0.2222222222222222,
                            "#7201a8"
                          ],
                          [
                            0.3333333333333333,
                            "#9c179e"
                          ],
                          [
                            0.4444444444444444,
                            "#bd3786"
                          ],
                          [
                            0.5555555555555556,
                            "#d8576b"
                          ],
                          [
                            0.6666666666666666,
                            "#ed7953"
                          ],
                          [
                            0.7777777777777778,
                            "#fb9f3a"
                          ],
                          [
                            0.8888888888888888,
                            "#fdca26"
                          ],
                          [
                            1,
                            "#f0f921"
                          ]
                        ],
                        "type": "histogram2d"
                      }
                    ],
                    "histogram2dcontour": [
                      {
                        "colorbar": {
                          "outlinewidth": 0,
                          "ticks": ""
                        },
                        "colorscale": [
                          [
                            0,
                            "#0d0887"
                          ],
                          [
                            0.1111111111111111,
                            "#46039f"
                          ],
                          [
                            0.2222222222222222,
                            "#7201a8"
                          ],
                          [
                            0.3333333333333333,
                            "#9c179e"
                          ],
                          [
                            0.4444444444444444,
                            "#bd3786"
                          ],
                          [
                            0.5555555555555556,
                            "#d8576b"
                          ],
                          [
                            0.6666666666666666,
                            "#ed7953"
                          ],
                          [
                            0.7777777777777778,
                            "#fb9f3a"
                          ],
                          [
                            0.8888888888888888,
                            "#fdca26"
                          ],
                          [
                            1,
                            "#f0f921"
                          ]
                        ],
                        "type": "histogram2dcontour"
                      }
                    ],
                    "mesh3d": [
                      {
                        "colorbar": {
                          "outlinewidth": 0,
                          "ticks": ""
                        },
                        "type": "mesh3d"
                      }
                    ],
                    "parcoords": [
                      {
                        "line": {
                          "colorbar": {
                            "outlinewidth": 0,
                            "ticks": ""
                          }
                        },
                        "type": "parcoords"
                      }
                    ],
                    "pie": [
                      {
                        "automargin": true,
                        "type": "pie"
                      }
                    ],
                    "scatter": [
                      {
                        "fillpattern": {
                          "fillmode": "overlay",
                          "size": 10,
                          "solidity": 0.2
                        },
                        "type": "scatter"
                      }
                    ],
                    "scatter3d": [
                      {
                        "line": {
                          "colorbar": {
                            "outlinewidth": 0,
                            "ticks": ""
                          }
                        },
                        "marker": {
                          "colorbar": {
                            "outlinewidth": 0,
                            "ticks": ""
                          }
                        },
                        "type": "scatter3d"
                      }
                    ],
                    "scattercarpet": [
                      {
                        "marker": {
                          "colorbar": {
                            "outlinewidth": 0,
                            "ticks": ""
                          }
                        },
                        "type": "scattercarpet"
                      }
                    ],
                    "scattergeo": [
                      {
                        "marker": {
                          "colorbar": {
                            "outlinewidth": 0,
                            "ticks": ""
                          }
                        },
                        "type": "scattergeo"
                      }
                    ],
                    "scattergl": [
                      {
                        "marker": {
                          "colorbar": {
                            "outlinewidth": 0,
                            "ticks": ""
                          }
                        },
                        "type": "scattergl"
                      }
                    ],
                    "scattermap": [
                      {
                        "marker": {
                          "colorbar": {
                            "outlinewidth": 0,
                            "ticks": ""
                          }
                        },
                        "type": "scattermap"
                      }
                    ],
                    "scattermapbox": [
                      {
                        "marker": {
                          "colorbar": {
                            "outlinewidth": 0,
                            "ticks": ""
                          }
                        },
                        "type": "scattermapbox"
                      }
                    ],
                    "scatterpolar": [
                      {
                        "marker": {
                          "colorbar": {
                            "outlinewidth": 0,
                            "ticks": ""
                          }
                        },
                        "type": "scatterpolar"
                      }
                    ],
                    "scatterpolargl": [
                      {
                        "marker": {
                          "colorbar": {
                            "outlinewidth": 0,
                            "ticks": ""
                          }
                        },
                        "type": "scatterpolargl"
                      }
                    ],
                    "scatterternary": [
                      {
                        "marker": {
                          "colorbar": {
                            "outlinewidth": 0,
                            "ticks": ""
                          }
                        },
                        "type": "scatterternary"
                      }
                    ],
                    "surface": [
                      {
                        "colorbar": {
                          "outlinewidth": 0,
                          "ticks": ""
                        },
                        "colorscale": [
                          [
                            0,
                            "#0d0887"
                          ],
                          [
                            0.1111111111111111,
                            "#46039f"
                          ],
                          [
                            0.2222222222222222,
                            "#7201a8"
                          ],
                          [
                            0.3333333333333333,
                            "#9c179e"
                          ],
                          [
                            0.4444444444444444,
                            "#bd3786"
                          ],
                          [
                            0.5555555555555556,
                            "#d8576b"
                          ],
                          [
                            0.6666666666666666,
                            "#ed7953"
                          ],
                          [
                            0.7777777777777778,
                            "#fb9f3a"
                          ],
                          [
                            0.8888888888888888,
                            "#fdca26"
                          ],
                          [
                            1,
                            "#f0f921"
                          ]
                        ],
                        "type": "surface"
                      }
                    ],
                    "table": [
                      {
                        "cells": {
                          "fill": {
                            "color": "#EBF0F8"
                          },
                          "line": {
                            "color": "white"
                          }
                        },
                        "header": {
                          "fill": {
                            "color": "#C8D4E3"
                          },
                          "line": {
                            "color": "white"
                          }
                        },
                        "type": "table"
                      }
                    ]
                  },
                  "layout": {
                    "annotationdefaults": {
                      "arrowcolor": "#2a3f5f",
                      "arrowhead": 0,
                      "arrowwidth": 1
                    },
                    "autotypenumbers": "strict",
                    "coloraxis": {
                      "colorbar": {
                        "outlinewidth": 0,
                        "ticks": ""
                      }
                    },
                    "colorscale": {
                      "diverging": [
                        [
                          0,
                          "#8e0152"
                        ],
                        [
                          0.1,
                          "#c51b7d"
                        ],
                        [
                          0.2,
                          "#de77ae"
                        ],
                        [
                          0.3,
                          "#f1b6da"
                        ],
                        [
                          0.4,
                          "#fde0ef"
                        ],
                        [
                          0.5,
                          "#f7f7f7"
                        ],
                        [
                          0.6,
                          "#e6f5d0"
                        ],
                        [
                          0.7,
                          "#b8e186"
                        ],
                        [
                          0.8,
                          "#7fbc41"
                        ],
                        [
                          0.9,
                          "#4d9221"
                        ],
                        [
                          1,
                          "#276419"
                        ]
                      ],
                      "sequential": [
                        [
                          0,
                          "#0d0887"
                        ],
                        [
                          0.1111111111111111,
                          "#46039f"
                        ],
                        [
                          0.2222222222222222,
                          "#7201a8"
                        ],
                        [
                          0.3333333333333333,
                          "#9c179e"
                        ],
                        [
                          0.4444444444444444,
                          "#bd3786"
                        ],
                        [
                          0.5555555555555556,
                          "#d8576b"
                        ],
                        [
                          0.6666666666666666,
                          "#ed7953"
                        ],
                        [
                          0.7777777777777778,
                          "#fb9f3a"
                        ],
                        [
                          0.8888888888888888,
                          "#fdca26"
                        ],
                        [
                          1,
                          "#f0f921"
                        ]
                      ],
                      "sequentialminus": [
                        [
                          0,
                          "#0d0887"
                        ],
                        [
                          0.1111111111111111,
                          "#46039f"
                        ],
                        [
                          0.2222222222222222,
                          "#7201a8"
                        ],
                        [
                          0.3333333333333333,
                          "#9c179e"
                        ],
                        [
                          0.4444444444444444,
                          "#bd3786"
                        ],
                        [
                          0.5555555555555556,
                          "#d8576b"
                        ],
                        [
                          0.6666666666666666,
                          "#ed7953"
                        ],
                        [
                          0.7777777777777778,
                          "#fb9f3a"
                        ],
                        [
                          0.8888888888888888,
                          "#fdca26"
                        ],
                        [
                          1,
                          "#f0f921"
                        ]
                      ]
                    },
                    "colorway": [
                      "#636efa",
                      "#EF553B",
                      "#00cc96",
                      "#ab63fa",
                      "#FFA15A",
                      "#19d3f3",
                      "#FF6692",
                      "#B6E880",
                      "#FF97FF",
                      "#FECB52"
                    ],
                    "font": {
                      "color": "#2a3f5f"
                    },
                    "geo": {
                      "bgcolor": "white",
                      "lakecolor": "white",
                      "landcolor": "#E5ECF6",
                      "showlakes": true,
                      "showland": true,
                      "subunitcolor": "white"
                    },
                    "hoverlabel": {
                      "align": "left"
                    },
                    "hovermode": "closest",
                    "mapbox": {
                      "style": "light"
                    },
                    "paper_bgcolor": "white",
                    "plot_bgcolor": "#E5ECF6",
                    "polar": {
                      "angularaxis": {
                        "gridcolor": "white",
                        "linecolor": "white",
                        "ticks": ""
                      },
                      "bgcolor": "#E5ECF6",
                      "radialaxis": {
                        "gridcolor": "white",
                        "linecolor": "white",
                        "ticks": ""
                      }
                    },
                    "scene": {
                      "xaxis": {
                        "backgroundcolor": "#E5ECF6",
                        "gridcolor": "white",
                        "gridwidth": 2,
                        "linecolor": "white",
                        "showbackground": true,
                        "ticks": "",
                        "zerolinecolor": "white"
                      },
                      "yaxis": {
                        "backgroundcolor": "#E5ECF6",
                        "gridcolor": "white",
                        "gridwidth": 2,
                        "linecolor": "white",
                        "showbackground": true,
                        "ticks": "",
                        "zerolinecolor": "white"
                      },
                      "zaxis": {
                        "backgroundcolor": "#E5ECF6",
                        "gridcolor": "white",
                        "gridwidth": 2,
                        "linecolor": "white",
                        "showbackground": true,
                        "ticks": "",
                        "zerolinecolor": "white"
                      }
                    },
                    "shapedefaults": {
                      "line": {
                        "color": "#2a3f5f"
                      }
                    },
                    "ternary": {
                      "aaxis": {
                        "gridcolor": "white",
                        "linecolor": "white",
                        "ticks": ""
                      },
                      "baxis": {
                        "gridcolor": "white",
                        "linecolor": "white",
                        "ticks": ""
                      },
                      "bgcolor": "#E5ECF6",
                      "caxis": {
                        "gridcolor": "white",
                        "linecolor": "white",
                        "ticks": ""
                      }
                    },
                    "title": {
                      "x": 0.05
                    },
                    "xaxis": {
                      "automargin": true,
                      "gridcolor": "white",
                      "linecolor": "white",
                      "ticks": "",
                      "title": {
                        "standoff": 15
                      },
                      "zerolinecolor": "white",
                      "zerolinewidth": 2
                    },
                    "yaxis": {
                      "automargin": true,
                      "gridcolor": "white",
                      "linecolor": "white",
                      "ticks": "",
                      "title": {
                        "standoff": 15
                      },
                      "zerolinecolor": "white",
                      "zerolinewidth": 2
                    }
                  }
                },
                "title": {
                  "text": "Top 5 Categories"
                },
                "xaxis": {
                  "anchor": "y",
                  "domain": [
                    0,
                    1
                  ],
                  "title": {
                    "text": "categories"
                  }
                },
                "yaxis": {
                  "anchor": "x",
                  "domain": [
                    0,
                    1
                  ],
                  "title": {
                    "text": "y"
                  }
                }
              }
            }
          },
          "metadata": {},
          "output_type": "display_data"
        }
      ],
      "source": [
        "# Count products per category ( Multiple )\n",
        "cat_counts = df[\"categories\"].value_counts().head(5)\n",
        "\n",
        "# Plot\n",
        "fig = px.bar(cat_counts, x=cat_counts.index, y=cat_counts.values, title=\"Top 5 Categories\")\n",
        "fig.show()"
      ]
    }
  ],
  "metadata": {
    "colab": {
      "provenance": []
    },
    "kernelspec": {
      "display_name": "Python 3",
      "name": "python3"
    },
    "language_info": {
      "codemirror_mode": {
        "name": "ipython",
        "version": 3
      },
      "file_extension": ".py",
      "mimetype": "text/x-python",
      "name": "python",
      "nbconvert_exporter": "python",
      "pygments_lexer": "ipython3",
      "version": "3.11.6"
    }
  },
  "nbformat": 4,
  "nbformat_minor": 0
}
